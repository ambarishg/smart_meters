{
 "cells": [
  {
   "cell_type": "code",
   "execution_count": null,
   "metadata": {},
   "outputs": [],
   "source": [
    "from db.duckdb.duckdbhelper import DuckDBDatabaseHelper\n",
    "from pprint import pprint\n",
    "import numpy as np # linear algebra\n",
    "import pandas as pd # data processing, CSV file I/O (e.g. pd.read_csv)\n",
    "import matplotlib.pyplot as plt\n",
    "import seaborn as sns"
   ]
  },
  {
   "cell_type": "code",
   "execution_count": null,
   "metadata": {},
   "outputs": [],
   "source": [
    "db = DuckDBDatabaseHelper(\"meters.db\")\n",
    "db.connect()"
   ]
  },
  {
   "cell_type": "code",
   "execution_count": null,
   "metadata": {},
   "outputs": [],
   "source": [
    "# weather_daily_darksky\n",
    "sql_query =f\"SELECT COUNT(1) FROM  weather_daily_darksky\"\n",
    "records = db.fetch_all(sql_query)\n",
    "print(records)"
   ]
  },
  {
   "cell_type": "code",
   "execution_count": null,
   "metadata": {},
   "outputs": [],
   "source": [
    "sql_query =f\"SELECT * FROM  weather_daily_darksky LIMIT 5\"\n",
    "records = db.fetch_all(sql_query)\n",
    "pprint(records)\n",
    "db.close_connection()"
   ]
  },
  {
   "cell_type": "code",
   "execution_count": null,
   "metadata": {},
   "outputs": [],
   "source": [
    "db.connect()\n",
    "sql_query =\"\"\"\n",
    "SELECT column_name FROM information_schema.columns \\\n",
    "    WHERE table_name='weather_daily_darksky'\n",
    "    \"\"\"\n",
    "records = db.fetch_all(sql_query)\n",
    "pprint(records)\n",
    "db.close_connection()"
   ]
  },
  {
   "cell_type": "code",
   "execution_count": null,
   "metadata": {},
   "outputs": [],
   "source": [
    "sql_query =\"\"\"\n",
    "\n",
    "SELECT energy_sum, \n",
    "temperatureMin, \n",
    "temperatureMax,\n",
    "cloudCover,\n",
    "windSpeed,\n",
    "humidity,\n",
    "windBearing, \n",
    "dewPoint,\n",
    "pressure, \n",
    "apparentTemperatureHigh, \n",
    "visibility, \n",
    "apparentTemperatureLow, \n",
    "apparentTemperatureMax, \n",
    "uvIndex,\n",
    "temperatureLow, \n",
    "temperatureHigh,\n",
    "apparentTemperatureMin, \n",
    "moonPhase,\n",
    "FROM  meters m LEFT JOIN info_household ih\n",
    "ON m.LCLid = ih.LCLid\n",
    "LEFT JOIN weather_daily_darksky_modified wd\n",
    "ON m.day = wd.formatted_temperatureMaxTime_weather_daily_darksky\n",
    "\n",
    "\"\"\"\n",
    "\n",
    "db.connect()\n",
    "records = db.fetch_all(sql_query)\n",
    "db.close_connection()"
   ]
  },
  {
   "cell_type": "code",
   "execution_count": null,
   "metadata": {},
   "outputs": [],
   "source": [
    "pprint(records[0])"
   ]
  },
  {
   "cell_type": "code",
   "execution_count": null,
   "metadata": {},
   "outputs": [],
   "source": [
    "df = pd.DataFrame(records,\n",
    "                   columns = [\"energy_sum\",\n",
    "                              \"min_temp\",\n",
    "                              \"max_temp\",\n",
    "                              \"cloudCover\",\n",
    "                              \"windSpeed\",\"humidity\",\n",
    "                              \"windBearing\", \"dewPoint\",\n",
    "\"pressure\", \"apparentTemperatureHigh\", \"visibility\", \n",
    "\"apparentTemperatureLow\", \"apparentTemperatureMax\", \"uvIndex\",\n",
    "\"temperatureLow\", \"temperatureHigh\",\n",
    "\"apparentTemperatureMin\", \"moonPhase\",])\n",
    "\n",
    "df_energy = df"
   ]
  },
  {
   "cell_type": "code",
   "execution_count": null,
   "metadata": {},
   "outputs": [],
   "source": [
    "def draw_plot(fig_size_x = 15,\n",
    "              fig_size_y = 10,\n",
    "              tick_params_labelsize = 14,\n",
    "             xlabel_name_fontsize = 20,\n",
    "             ylabel_name_fontsize = 20,\n",
    "             title_name_fontsize = 20):\n",
    "    \n",
    "    #get current figure \n",
    "    fig=plt.gcf()\n",
    "    \n",
    "    #set the size of the figure\n",
    "    fig.set_size_inches(fig_size_x,fig_size_y)\n",
    "\n",
    "    #get axes of the current figure \n",
    "    ax =  fig.gca()\n",
    "\n",
    "    # set the label size of the ticks of the axes\n",
    "    ax.tick_params(labelsize=tick_params_labelsize)\n",
    "\n",
    "    # set the label size of the x axis\n",
    "    ax.set_xlabel(xlabel_name,fontsize = xlabel_name_fontsize)\n",
    "\n",
    "    # set the label size of the y axis\n",
    "    ax.set_ylabel(ylabel_name,fontsize = ylabel_name_fontsize)\n",
    "\n",
    "     # set the title of the plot\n",
    "    ax.set_title(title_name,fontsize = title_name_fontsize)"
   ]
  },
  {
   "cell_type": "code",
   "execution_count": null,
   "metadata": {},
   "outputs": [],
   "source": [
    "sns.scatterplot( x= 'min_temp', \n",
    "                y = 'energy_sum' , \n",
    "                color = 'black', \n",
    "                data = df)\n",
    "\n",
    "title_name = \"Energy and Minimum Temperatire\"\n",
    "xlabel_name = \"min_temp\"\n",
    "ylabel_name = \"energy_sum\"\n",
    "\n",
    "draw_plot()"
   ]
  },
  {
   "cell_type": "code",
   "execution_count": null,
   "metadata": {},
   "outputs": [],
   "source": [
    "sns.scatterplot( x= 'max_temp', \n",
    "                y = 'energy_sum' , \n",
    "                color = 'black', \n",
    "                data = df)\n",
    "\n",
    "title_name = \"Energy and Max Temperatire\"\n",
    "xlabel_name = \"max_temp\"\n",
    "ylabel_name = \"energy_sum\"\n",
    "\n",
    "draw_plot()"
   ]
  },
  {
   "cell_type": "code",
   "execution_count": null,
   "metadata": {},
   "outputs": [],
   "source": [
    "sns.scatterplot( x= 'humidity', \n",
    "                y = 'energy_sum' , \n",
    "                color = 'black', \n",
    "                data = df)\n",
    "\n",
    "title_name = \"Energy and Humidity\"\n",
    "xlabel_name = \"humidity\"\n",
    "ylabel_name = \"energy_sum\"\n",
    "\n",
    "draw_plot()"
   ]
  },
  {
   "cell_type": "code",
   "execution_count": null,
   "metadata": {},
   "outputs": [],
   "source": [
    "correlation_matrix = df.corr()"
   ]
  },
  {
   "cell_type": "code",
   "execution_count": null,
   "metadata": {},
   "outputs": [],
   "source": [
    "correlation_matrix.iloc[:,0]"
   ]
  },
  {
   "cell_type": "code",
   "execution_count": null,
   "metadata": {},
   "outputs": [],
   "source": [
    "df = correlation_matrix.iloc[:,0].to_frame().T  # Transpose to make it 2D\n",
    "\n",
    "plt.figure(figsize=(5,2\n",
    "                    ))\n",
    "sns.heatmap(df,cmap='viridis')\n",
    "\n",
    "plt.title('Heatmap of Pandas Series')\n",
    "plt.show()"
   ]
  },
  {
   "cell_type": "code",
   "execution_count": null,
   "metadata": {},
   "outputs": [],
   "source": [
    "df"
   ]
  },
  {
   "cell_type": "code",
   "execution_count": null,
   "metadata": {},
   "outputs": [],
   "source": [
    "df = pd.DataFrame()"
   ]
  }
 ],
 "metadata": {
  "kernelspec": {
   "display_name": ".venv",
   "language": "python",
   "name": "python3"
  },
  "language_info": {
   "codemirror_mode": {
    "name": "ipython",
    "version": 3
   },
   "file_extension": ".py",
   "mimetype": "text/x-python",
   "name": "python",
   "nbconvert_exporter": "python",
   "pygments_lexer": "ipython3",
   "version": "3.11.6"
  }
 },
 "nbformat": 4,
 "nbformat_minor": 2
}
