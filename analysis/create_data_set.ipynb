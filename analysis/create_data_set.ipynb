{
 "cells": [
  {
   "cell_type": "code",
   "execution_count": null,
   "metadata": {},
   "outputs": [],
   "source": [
    "from db.duckdb.duckdbhelper import DuckDBDatabaseHelper\n",
    "from pprint import pprint"
   ]
  },
  {
   "cell_type": "code",
   "execution_count": null,
   "metadata": {},
   "outputs": [],
   "source": [
    "db = DuckDBDatabaseHelper(\"../meters.db\")"
   ]
  },
  {
   "cell_type": "code",
   "execution_count": null,
   "metadata": {},
   "outputs": [],
   "source": [
    "sql_query =\"\"\"\n",
    "\n",
    "SELECT day,energy_sum, \n",
    "temperatureMin, \n",
    "temperatureMax,\n",
    "cloudCover,\n",
    "windSpeed,\n",
    "humidity,\n",
    "windBearing, \n",
    "dewPoint,\n",
    "pressure, \n",
    "apparentTemperatureHigh, \n",
    "visibility, \n",
    "apparentTemperatureLow, \n",
    "apparentTemperatureMax, \n",
    "uvIndex,\n",
    "temperatureLow, \n",
    "temperatureHigh,\n",
    "apparentTemperatureMin, \n",
    "moonPhase,\n",
    "Type\n",
    "FROM  meters m LEFT JOIN info_household ih\n",
    "ON m.LCLid = ih.LCLid\n",
    "LEFT JOIN weather_daily_darksky_modified wd\n",
    "ON m.day = wd.formatted_temperatureMaxTime_weather_daily_darksky\n",
    "LEFT JOIN uk_bank_holidays uk_bh\n",
    "ON m.day = uk_bh.\"Bank holidays\"\n",
    "\n",
    "\"\"\"\n",
    "\n",
    "db.connect()\n",
    "records = db.fetch_all(sql_query)\n",
    "db.close_connection()"
   ]
  },
  {
   "cell_type": "code",
   "execution_count": null,
   "metadata": {},
   "outputs": [],
   "source": []
  }
 ],
 "metadata": {
  "kernelspec": {
   "display_name": ".venv",
   "language": "python",
   "name": "python3"
  },
  "language_info": {
   "codemirror_mode": {
    "name": "ipython",
    "version": 3
   },
   "file_extension": ".py",
   "mimetype": "text/x-python",
   "name": "python",
   "nbconvert_exporter": "python",
   "pygments_lexer": "ipython3",
   "version": "3.11.6"
  }
 },
 "nbformat": 4,
 "nbformat_minor": 2
}
