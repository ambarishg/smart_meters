{
 "cells": [
  {
   "cell_type": "code",
   "execution_count": null,
   "metadata": {},
   "outputs": [],
   "source": [
    "from db.duckdb.duckdbhelper import DuckDBDatabaseHelper\n",
    "from pprint import pprint\n",
    "import numpy as np # linear algebra\n",
    "import pandas as pd # data processing, CSV file I/O (e.g. pd.read_csv)\n",
    "import matplotlib.pyplot as plt\n",
    "import seaborn as sns"
   ]
  },
  {
   "cell_type": "code",
   "execution_count": null,
   "metadata": {},
   "outputs": [],
   "source": [
    "db = DuckDBDatabaseHelper(\"meters.db\")\n",
    "db.connect()"
   ]
  },
  {
   "cell_type": "code",
   "execution_count": null,
   "metadata": {},
   "outputs": [],
   "source": [
    "sql_query =f\"SELECT COUNT(1) FROM  meters\""
   ]
  },
  {
   "cell_type": "code",
   "execution_count": null,
   "metadata": {},
   "outputs": [],
   "source": [
    "records = db.fetch_all(sql_query)\n",
    "print(records[0][0]/1e6)"
   ]
  },
  {
   "cell_type": "code",
   "execution_count": null,
   "metadata": {},
   "outputs": [],
   "source": [
    "sql_query =f\"SELECT COUNT(DISTINCT(LCLid)) FROM  meters\"\n",
    "records = db.fetch_all(sql_query)\n",
    "print(f\"Unique LCID is {records[0][0]} \")"
   ]
  },
  {
   "cell_type": "code",
   "execution_count": null,
   "metadata": {},
   "outputs": [],
   "source": [
    "sql_query =f\"SELECT SUM(energy_sum) FROM  meters\"\n",
    "records = db.fetch_all(sql_query)\n",
    "print(f\"Unique LCID is {records[0][0]/1e6} \")"
   ]
  },
  {
   "cell_type": "code",
   "execution_count": null,
   "metadata": {},
   "outputs": [],
   "source": [
    "sql_query =f\"\"\"\n",
    "SELECT SUM(energy_sum),datepart('year',day)\n",
    "FROM  meters GROUP BY datepart('year',day)\"\"\"\n",
    "records = db.fetch_all(sql_query)\n",
    "print(records)"
   ]
  },
  {
   "cell_type": "code",
   "execution_count": null,
   "metadata": {},
   "outputs": [],
   "source": [
    "sql_query =\"SELECT column_name FROM information_schema.columns WHERE table_name='meters'\"\n",
    "records = db.fetch_all(sql_query)\n",
    "pprint(records)"
   ]
  },
  {
   "cell_type": "code",
   "execution_count": null,
   "metadata": {},
   "outputs": [],
   "source": [
    "sql_query =f\"\"\"\n",
    "SELECT AVG(energy_median),datepart('year',day)\n",
    "FROM  meters GROUP BY datepart('year',day)\"\"\"\n",
    "records = db.fetch_all(sql_query)\n",
    "pprint(records)"
   ]
  },
  {
   "cell_type": "code",
   "execution_count": null,
   "metadata": {},
   "outputs": [],
   "source": [
    "sql_query =f\"\"\"\n",
    "SELECT AVG(energy_median)\n",
    "FROM  meters WHERE day = '2012-12-26' \"\"\"\n",
    "records = db.fetch_all(sql_query)\n",
    "print(records)"
   ]
  },
  {
   "cell_type": "code",
   "execution_count": null,
   "metadata": {},
   "outputs": [],
   "source": [
    "db.close_connection()"
   ]
  },
  {
   "cell_type": "code",
   "execution_count": null,
   "metadata": {},
   "outputs": [],
   "source": [
    "db.connect()\n",
    "sql_query =\"SELECT column_name FROM information_schema.columns WHERE table_name='info_household'\"\n",
    "records = db.fetch_all(sql_query)\n",
    "pprint(records)"
   ]
  },
  {
   "cell_type": "code",
   "execution_count": null,
   "metadata": {},
   "outputs": [],
   "source": [
    "sql_query =\"\"\"\n",
    "\n",
    "SELECT SUM(m.energy_sum),ih.Acorn_grouped\n",
    "FROM  meters m LEFT JOIN info_household ih\n",
    "ON \n",
    "m.LCLid = ih.LCLid\n",
    "GROUP BY ih.Acorn_grouped\n",
    "\n",
    "\"\"\"\n",
    "\n",
    "db.connect()\n",
    "records = db.fetch_all(sql_query)\n",
    "print(records[:4])\n",
    "db.close_connection()"
   ]
  },
  {
   "cell_type": "code",
   "execution_count": null,
   "metadata": {},
   "outputs": [],
   "source": [
    "df_p = pd.DataFrame(records, columns =[\"energy_sum\",\"Acorn_grouped\"])\n",
    "df_p = df_p.sort_values(by=\"energy_sum\",ascending=False)"
   ]
  },
  {
   "cell_type": "code",
   "execution_count": null,
   "metadata": {},
   "outputs": [],
   "source": [
    "def draw_plot(fig_size_x = 15,\n",
    "              fig_size_y = 10,\n",
    "              tick_params_labelsize = 14,\n",
    "             xlabel_name_fontsize = 20,\n",
    "             ylabel_name_fontsize = 20,\n",
    "             title_name_fontsize = 20):\n",
    "    \n",
    "    #get current figure \n",
    "    fig=plt.gcf()\n",
    "    \n",
    "    #set the size of the figure\n",
    "    fig.set_size_inches(fig_size_x,fig_size_y)\n",
    "\n",
    "    #get axes of the current figure \n",
    "    ax =  fig.gca()\n",
    "\n",
    "    # set the label size of the ticks of the axes\n",
    "    ax.tick_params(labelsize=tick_params_labelsize)\n",
    "\n",
    "    # set the label size of the x axis\n",
    "    ax.set_xlabel(xlabel_name,fontsize = xlabel_name_fontsize)\n",
    "\n",
    "    # set the label size of the y axis\n",
    "    ax.set_ylabel(ylabel_name,fontsize = ylabel_name_fontsize)\n",
    "\n",
    "     # set the title of the plot\n",
    "    ax.set_title(title_name,fontsize = title_name_fontsize)\n"
   ]
  },
  {
   "cell_type": "code",
   "execution_count": null,
   "metadata": {},
   "outputs": [],
   "source": [
    "sns.barplot( y = 'Acorn_grouped', x = 'energy_sum', \n",
    "            data = df_p, color=\"gray\")\n",
    "\n",
    "title_name = \"Acorn_grouped and energy_sum\"\n",
    "xlabel_name = \"Energy Sum\"\n",
    "ylabel_name = \"Acorn Group\"\n",
    "\n",
    "draw_plot()"
   ]
  },
  {
   "cell_type": "code",
   "execution_count": null,
   "metadata": {},
   "outputs": [],
   "source": [
    "sql_query =\"\"\"\n",
    "\n",
    "SELECT COUNT(ih.Acorn_grouped),ih.Acorn_grouped\n",
    "FROM  info_household ih\n",
    "GROUP BY ih.Acorn_grouped\n",
    "\n",
    "\"\"\"\n",
    "\n",
    "db.connect()\n",
    "records = db.fetch_all(sql_query)\n",
    "print(records[:4])\n",
    "db.close_connection()"
   ]
  },
  {
   "cell_type": "code",
   "execution_count": null,
   "metadata": {},
   "outputs": [],
   "source": [
    "df_p = pd.DataFrame(records, columns =[\"Count\",\"Acorn_grouped\"])\n",
    "df_p = df_p.sort_values(by=\"Count\",ascending=False)"
   ]
  },
  {
   "cell_type": "code",
   "execution_count": null,
   "metadata": {},
   "outputs": [],
   "source": [
    "sns.barplot( y = 'Acorn_grouped', x = 'Count', \n",
    "            data = df_p, color=\"gray\")\n",
    "\n",
    "title_name = \"Acorn_grouped and Count\"\n",
    "xlabel_name = \"Count\"\n",
    "ylabel_name = \"Acorn Group\"\n",
    "\n",
    "draw_plot()"
   ]
  },
  {
   "cell_type": "code",
   "execution_count": null,
   "metadata": {},
   "outputs": [],
   "source": [
    "sql_query =\"\"\"\n",
    "\n",
    "SELECT SUM(m.energy_sum),ih.file\n",
    "FROM  meters m LEFT JOIN info_household ih\n",
    "ON \n",
    "m.LCLid = ih.LCLid\n",
    "GROUP BY ih.file\n",
    "\n",
    "\"\"\"\n",
    "\n",
    "db.connect()\n",
    "records = db.fetch_all(sql_query)\n",
    "print(records[:4])\n",
    "db.close_connection()"
   ]
  },
  {
   "cell_type": "code",
   "execution_count": null,
   "metadata": {},
   "outputs": [],
   "source": [
    "df_p = pd.DataFrame(records, columns =[\"energy_sum\",\"file\"])\n",
    "df_p = df_p.sort_values(by=\"energy_sum\",ascending=False)"
   ]
  },
  {
   "cell_type": "code",
   "execution_count": null,
   "metadata": {},
   "outputs": [],
   "source": [
    "sns.barplot( y = 'file', x = 'energy_sum', \n",
    "            data = df_p[:20], color=\"gray\")\n",
    "\n",
    "title_name = \"Blocks and Energy\"\n",
    "xlabel_name = \"Energy\"\n",
    "ylabel_name = \"Blocks\"\n",
    "\n",
    "draw_plot()"
   ]
  },
  {
   "cell_type": "code",
   "execution_count": null,
   "metadata": {},
   "outputs": [],
   "source": [
    "# Create a list of colors for the bars\n",
    "\n",
    "colors = ['#F3BC07', '#A9A9A9', '#8B4513'] + ['#008080'] * (len(df_p[:20]) - 3)\n",
    "\n",
    "# Set the style\n",
    "sns.set_theme(style=\"whitegrid\")\n",
    "\n",
    "# Create the figure with a specified size\n",
    "plt.figure(figsize=(12, 8))\n",
    "\n",
    "# Create the barplot\n",
    "bar_plot = sns.barplot(y='file', \n",
    "                       x='energy_sum', \n",
    "                       data=df_p[:20], \n",
    "                       hue='file', \n",
    "                       palette=colors, \n",
    "                       dodge=False, \n",
    "                       width=0.6)\n",
    "\n",
    "# Set titles and labels with enhanced font sizes and styles\n",
    "plt.title(\"Blocks and Energy\", fontsize=20, fontweight='bold')\n",
    "plt.xlabel(\"Energy\", fontsize=16)\n",
    "plt.ylabel(\"Blocks\", fontsize=16)\n",
    "\n",
    "# Add data labels on top of the bars\n",
    "for p in bar_plot.patches:\n",
    "    bar_plot.annotate(f'{p.get_width()}', \n",
    "                      (p.get_width(), p.get_y() + p.get_height() / 2), \n",
    "                      ha='center', va='center', \n",
    "                      fontsize=12, color='black', \n",
    "                      xytext=(10, 0), textcoords='offset points')\n",
    "\n",
    "\n",
    "\n",
    "# Show gridlines for better readability\n",
    "plt.grid(axis='x', linestyle='--', alpha=0.7)\n",
    "\n",
    "# Show the plot\n",
    "plt.tight_layout()\n",
    "plt.show()"
   ]
  },
  {
   "cell_type": "code",
   "execution_count": null,
   "metadata": {},
   "outputs": [],
   "source": [
    "sql_query =\"\"\"\n",
    "\n",
    "SELECT COUNT(DISTINCT(ih.file))\n",
    "FROM info_household ih\n",
    "\n",
    "\"\"\"\n",
    "\n",
    "db.connect()\n",
    "records = db.fetch_all(sql_query)\n",
    "print(records[:4])\n",
    "db.close_connection()"
   ]
  },
  {
   "cell_type": "code",
   "execution_count": null,
   "metadata": {},
   "outputs": [],
   "source": [
    "sql_query =\"\"\"\n",
    "\n",
    "SELECT COUNT(1),ih.file\n",
    "FROM info_household ih\n",
    "GROUP BY (ih.file)\n",
    "\n",
    "\"\"\"\n",
    "\n",
    "db.connect()\n",
    "records = db.fetch_all(sql_query)\n",
    "pprint(records)\n",
    "db.close_connection()"
   ]
  },
  {
   "cell_type": "code",
   "execution_count": null,
   "metadata": {},
   "outputs": [],
   "source": [
    "sql_query =\"\"\"\n",
    "\n",
    "SELECT *\n",
    "FROM  meters m LEFT JOIN info_household ih\n",
    "ON \n",
    "m.LCLid = ih.LCLid\n",
    "\n",
    "\"\"\"\n",
    "\n",
    "db.connect()\n",
    "records = db.fetch_all(sql_query)\n",
    "db.close_connection()"
   ]
  },
  {
   "cell_type": "code",
   "execution_count": null,
   "metadata": {},
   "outputs": [],
   "source": [
    "sql_query =\"\"\"\n",
    "\n",
    "SELECT energy_sum\n",
    "FROM  meters m \n",
    "WHERE \n",
    "date_part('year', day) = 2013\n",
    "AND date_part('month', day) = 9\n",
    "AND date_part('day', day) = 10\n",
    "\"\"\"\n",
    "\n",
    "db.connect()\n",
    "records = db.fetch_all(sql_query)\n",
    "db.close_connection()"
   ]
  },
  {
   "cell_type": "code",
   "execution_count": null,
   "metadata": {},
   "outputs": [],
   "source": [
    "energy_sum = pd.DataFrame(records,columns= [\"energy_sum\"]).fillna(0)"
   ]
  },
  {
   "cell_type": "code",
   "execution_count": null,
   "metadata": {},
   "outputs": [],
   "source": [
    "from sklearn.cluster import KMeans"
   ]
  },
  {
   "cell_type": "code",
   "execution_count": null,
   "metadata": {},
   "outputs": [],
   "source": [
    "n_energy_sum = np.array(energy_sum[\"energy_sum\"])"
   ]
  },
  {
   "cell_type": "code",
   "execution_count": null,
   "metadata": {},
   "outputs": [],
   "source": [
    "n_energy_sum"
   ]
  },
  {
   "cell_type": "code",
   "execution_count": null,
   "metadata": {},
   "outputs": [],
   "source": [
    "kmeans = KMeans(n_clusters=10, \n",
    "                random_state=0,\n",
    "                  n_init=\"auto\").fit(n_energy_sum.reshape(-1, 1))\n",
    "labels = list(kmeans.labels_)"
   ]
  },
  {
   "cell_type": "code",
   "execution_count": null,
   "metadata": {},
   "outputs": [],
   "source": [
    "clusters = pd.DataFrame()"
   ]
  },
  {
   "cell_type": "code",
   "execution_count": null,
   "metadata": {},
   "outputs": [],
   "source": [
    "clusters[\"energy_sum\"] = energy_sum"
   ]
  },
  {
   "cell_type": "code",
   "execution_count": null,
   "metadata": {},
   "outputs": [],
   "source": [
    "clusters[\"labels\"] = labels"
   ]
  },
  {
   "cell_type": "code",
   "execution_count": null,
   "metadata": {},
   "outputs": [],
   "source": [
    "clusters"
   ]
  },
  {
   "cell_type": "code",
   "execution_count": null,
   "metadata": {},
   "outputs": [],
   "source": [
    "result = clusters.groupby('labels')['energy_sum'].agg(['mean', 'count'])"
   ]
  },
  {
   "cell_type": "code",
   "execution_count": null,
   "metadata": {},
   "outputs": [],
   "source": [
    "result"
   ]
  },
  {
   "cell_type": "code",
   "execution_count": null,
   "metadata": {},
   "outputs": [],
   "source": []
  }
 ],
 "metadata": {
  "kernelspec": {
   "display_name": ".venv",
   "language": "python",
   "name": "python3"
  },
  "language_info": {
   "codemirror_mode": {
    "name": "ipython",
    "version": 3
   },
   "file_extension": ".py",
   "mimetype": "text/x-python",
   "name": "python",
   "nbconvert_exporter": "python",
   "pygments_lexer": "ipython3",
   "version": "3.11.6"
  }
 },
 "nbformat": 4,
 "nbformat_minor": 2
}
