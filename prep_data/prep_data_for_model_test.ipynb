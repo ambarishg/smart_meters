{
 "cells": [
  {
   "cell_type": "code",
   "execution_count": 1,
   "metadata": {},
   "outputs": [],
   "source": [
    "import sys\n",
    "sys.path.append(\"..\")"
   ]
  },
  {
   "cell_type": "code",
   "execution_count": 2,
   "metadata": {},
   "outputs": [],
   "source": [
    "from db.duckdb.duckdbhelper import DuckDBDatabaseHelper\n",
    "from pprint import pprint\n",
    "import pandas as pd"
   ]
  },
  {
   "cell_type": "code",
   "execution_count": 3,
   "metadata": {},
   "outputs": [],
   "source": [
    "NUM_ROWS = 1500000"
   ]
  },
  {
   "cell_type": "code",
   "execution_count": 4,
   "metadata": {},
   "outputs": [],
   "source": [
    "db = DuckDBDatabaseHelper(\"../meters.db\")"
   ]
  },
  {
   "cell_type": "code",
   "execution_count": 5,
   "metadata": {},
   "outputs": [
    {
     "name": "stdout",
     "output_type": "stream",
     "text": [
      "Connected to DuckDB database: ../meters.db\n",
      "Fetched 298099 rows.\n",
      "Connection closed.\n"
     ]
    }
   ],
   "source": [
    "sql_query =\"\"\"\n",
    "\n",
    "SELECT day,energy_sum, \n",
    "temperatureMin, \n",
    "temperatureMax,\n",
    "uvIndex,\n",
    "dewPoint,                  \n",
    "Type,\n",
    "date_part('month', day) as month\n",
    "FROM  meters m LEFT JOIN info_household ih\n",
    "ON m.LCLid = ih.LCLid\n",
    "LEFT JOIN weather_daily_darksky_modified wd\n",
    "ON m.day = wd.formatted_temperatureMaxTime_weather_daily_darksky\n",
    "LEFT JOIN uk_bank_holidays uk_bh\n",
    "ON m.day = uk_bh.\"Bank holidays\"\n",
    "\n",
    "WHERE date_part('year', day) = 2014\n",
    "\n",
    "\"\"\"\n",
    "\n",
    "db.connect()\n",
    "records = db.fetch_all(sql_query)\n",
    "db.close_connection()"
   ]
  },
  {
   "cell_type": "code",
   "execution_count": 6,
   "metadata": {},
   "outputs": [
    {
     "data": {
      "text/plain": [
       "[(datetime.date(2014, 1, 2),\n",
       "  14.195000000000004,\n",
       "  6.54,\n",
       "  10.75,\n",
       "  1.0,\n",
       "  6.02,\n",
       "  None,\n",
       "  1),\n",
       " (datetime.date(2014, 1, 3),\n",
       "  11.382000000000003,\n",
       "  7.01,\n",
       "  10.49,\n",
       "  1.0,\n",
       "  5.08,\n",
       "  None,\n",
       "  1),\n",
       " (datetime.date(2014, 1, 6), 14.302, 9.34, 12.57, 1.0, 7.64, None, 1),\n",
       " (datetime.date(2014, 1, 7), 16.492, 8.98, 11.38, 1.0, 6.63, None, 1),\n",
       " (datetime.date(2014, 1, 8),\n",
       "  13.079000000000002,\n",
       "  7.37,\n",
       "  11.62,\n",
       "  1.0,\n",
       "  7.02,\n",
       "  None,\n",
       "  1)]"
      ]
     },
     "execution_count": 6,
     "metadata": {},
     "output_type": "execute_result"
    }
   ],
   "source": [
    "records[:5]"
   ]
  },
  {
   "cell_type": "code",
   "execution_count": 7,
   "metadata": {},
   "outputs": [],
   "source": [
    "COLS = [\n",
    "\"day\",\"energy_sum\", \n",
    "\"temperatureMin\", \n",
    "\"temperatureMax\",\n",
    "\"uvIndex\",\n",
    "\"dewPoint\",                  \n",
    "\"Type\",\"month\" ]"
   ]
  },
  {
   "cell_type": "code",
   "execution_count": 8,
   "metadata": {},
   "outputs": [],
   "source": [
    "df_model = pd.DataFrame(records,columns = COLS)"
   ]
  },
  {
   "cell_type": "code",
   "execution_count": 9,
   "metadata": {},
   "outputs": [
    {
     "data": {
      "text/html": [
       "<div>\n",
       "<style scoped>\n",
       "    .dataframe tbody tr th:only-of-type {\n",
       "        vertical-align: middle;\n",
       "    }\n",
       "\n",
       "    .dataframe tbody tr th {\n",
       "        vertical-align: top;\n",
       "    }\n",
       "\n",
       "    .dataframe thead th {\n",
       "        text-align: right;\n",
       "    }\n",
       "</style>\n",
       "<table border=\"1\" class=\"dataframe\">\n",
       "  <thead>\n",
       "    <tr style=\"text-align: right;\">\n",
       "      <th></th>\n",
       "      <th>day</th>\n",
       "      <th>energy_sum</th>\n",
       "      <th>temperatureMin</th>\n",
       "      <th>temperatureMax</th>\n",
       "      <th>uvIndex</th>\n",
       "      <th>dewPoint</th>\n",
       "      <th>Type</th>\n",
       "      <th>month</th>\n",
       "    </tr>\n",
       "  </thead>\n",
       "  <tbody>\n",
       "    <tr>\n",
       "      <th>0</th>\n",
       "      <td>2014-01-02</td>\n",
       "      <td>14.195</td>\n",
       "      <td>6.54</td>\n",
       "      <td>10.75</td>\n",
       "      <td>1.0</td>\n",
       "      <td>6.02</td>\n",
       "      <td>None</td>\n",
       "      <td>1</td>\n",
       "    </tr>\n",
       "    <tr>\n",
       "      <th>1</th>\n",
       "      <td>2014-01-03</td>\n",
       "      <td>11.382</td>\n",
       "      <td>7.01</td>\n",
       "      <td>10.49</td>\n",
       "      <td>1.0</td>\n",
       "      <td>5.08</td>\n",
       "      <td>None</td>\n",
       "      <td>1</td>\n",
       "    </tr>\n",
       "    <tr>\n",
       "      <th>2</th>\n",
       "      <td>2014-01-06</td>\n",
       "      <td>14.302</td>\n",
       "      <td>9.34</td>\n",
       "      <td>12.57</td>\n",
       "      <td>1.0</td>\n",
       "      <td>7.64</td>\n",
       "      <td>None</td>\n",
       "      <td>1</td>\n",
       "    </tr>\n",
       "    <tr>\n",
       "      <th>3</th>\n",
       "      <td>2014-01-07</td>\n",
       "      <td>16.492</td>\n",
       "      <td>8.98</td>\n",
       "      <td>11.38</td>\n",
       "      <td>1.0</td>\n",
       "      <td>6.63</td>\n",
       "      <td>None</td>\n",
       "      <td>1</td>\n",
       "    </tr>\n",
       "    <tr>\n",
       "      <th>4</th>\n",
       "      <td>2014-01-08</td>\n",
       "      <td>13.079</td>\n",
       "      <td>7.37</td>\n",
       "      <td>11.62</td>\n",
       "      <td>1.0</td>\n",
       "      <td>7.02</td>\n",
       "      <td>None</td>\n",
       "      <td>1</td>\n",
       "    </tr>\n",
       "  </tbody>\n",
       "</table>\n",
       "</div>"
      ],
      "text/plain": [
       "          day  energy_sum  temperatureMin  temperatureMax  uvIndex  dewPoint  \\\n",
       "0  2014-01-02      14.195            6.54           10.75      1.0      6.02   \n",
       "1  2014-01-03      11.382            7.01           10.49      1.0      5.08   \n",
       "2  2014-01-06      14.302            9.34           12.57      1.0      7.64   \n",
       "3  2014-01-07      16.492            8.98           11.38      1.0      6.63   \n",
       "4  2014-01-08      13.079            7.37           11.62      1.0      7.02   \n",
       "\n",
       "   Type  month  \n",
       "0  None      1  \n",
       "1  None      1  \n",
       "2  None      1  \n",
       "3  None      1  \n",
       "4  None      1  "
      ]
     },
     "execution_count": 9,
     "metadata": {},
     "output_type": "execute_result"
    }
   ],
   "source": [
    "df_model.head()"
   ]
  },
  {
   "cell_type": "code",
   "execution_count": 10,
   "metadata": {},
   "outputs": [],
   "source": [
    "df_model['Type_Binary'] = df_model['Type'].apply(lambda x: 1 if x is not None else 0)"
   ]
  },
  {
   "cell_type": "code",
   "execution_count": 11,
   "metadata": {},
   "outputs": [],
   "source": [
    "COLS_FEAT = [\"temperatureMin\", \n",
    "\"temperatureMax\",\n",
    "\"uvIndex\",\n",
    "\"dewPoint\",                  \n",
    "\"Type_Binary\",\"month\"]\n",
    "COLS_LABEL = [\"energy_sum\"]"
   ]
  },
  {
   "cell_type": "code",
   "execution_count": 12,
   "metadata": {},
   "outputs": [],
   "source": [
    "df_model = df_model[COLS_FEAT + COLS_LABEL]"
   ]
  },
  {
   "cell_type": "code",
   "execution_count": 13,
   "metadata": {},
   "outputs": [
    {
     "data": {
      "text/plain": [
       "293000"
      ]
     },
     "execution_count": 13,
     "metadata": {},
     "output_type": "execute_result"
    }
   ],
   "source": [
    "df_model = df_model.dropna()\n",
    "len(df_model)"
   ]
  },
  {
   "cell_type": "code",
   "execution_count": 14,
   "metadata": {},
   "outputs": [
    {
     "data": {
      "text/plain": [
       "Index(['temperatureMin', 'temperatureMax', 'uvIndex', 'dewPoint',\n",
       "       'Type_Binary', 'month', 'energy_sum'],\n",
       "      dtype='object')"
      ]
     },
     "execution_count": 14,
     "metadata": {},
     "output_type": "execute_result"
    }
   ],
   "source": [
    "df_model.columns"
   ]
  },
  {
   "cell_type": "code",
   "execution_count": 15,
   "metadata": {},
   "outputs": [],
   "source": [
    "if len(df_model) < NUM_ROWS:\n",
    "    NUM_ROWS2 = len(df_model)\n",
    "else:\n",
    "    NUM_ROWS2 = NUM_ROWS"
   ]
  },
  {
   "cell_type": "code",
   "execution_count": 16,
   "metadata": {},
   "outputs": [],
   "source": [
    "df_model_sample = df_model.sample(n = NUM_ROWS2)"
   ]
  },
  {
   "cell_type": "code",
   "execution_count": 17,
   "metadata": {},
   "outputs": [],
   "source": [
    "X = df_model_sample[COLS_FEAT]"
   ]
  },
  {
   "cell_type": "code",
   "execution_count": 18,
   "metadata": {},
   "outputs": [],
   "source": [
    "y = df_model_sample[COLS_LABEL]"
   ]
  },
  {
   "cell_type": "code",
   "execution_count": 19,
   "metadata": {},
   "outputs": [
    {
     "data": {
      "text/html": [
       "<div>\n",
       "<style scoped>\n",
       "    .dataframe tbody tr th:only-of-type {\n",
       "        vertical-align: middle;\n",
       "    }\n",
       "\n",
       "    .dataframe tbody tr th {\n",
       "        vertical-align: top;\n",
       "    }\n",
       "\n",
       "    .dataframe thead th {\n",
       "        text-align: right;\n",
       "    }\n",
       "</style>\n",
       "<table border=\"1\" class=\"dataframe\">\n",
       "  <thead>\n",
       "    <tr style=\"text-align: right;\">\n",
       "      <th></th>\n",
       "      <th>temperatureMin</th>\n",
       "      <th>temperatureMax</th>\n",
       "      <th>uvIndex</th>\n",
       "      <th>dewPoint</th>\n",
       "      <th>Type_Binary</th>\n",
       "      <th>month</th>\n",
       "    </tr>\n",
       "  </thead>\n",
       "  <tbody>\n",
       "    <tr>\n",
       "      <th>185075</th>\n",
       "      <td>5.85</td>\n",
       "      <td>10.13</td>\n",
       "      <td>1.0</td>\n",
       "      <td>6.23</td>\n",
       "      <td>0</td>\n",
       "      <td>2</td>\n",
       "    </tr>\n",
       "    <tr>\n",
       "      <th>214065</th>\n",
       "      <td>4.13</td>\n",
       "      <td>9.81</td>\n",
       "      <td>1.0</td>\n",
       "      <td>4.16</td>\n",
       "      <td>0</td>\n",
       "      <td>2</td>\n",
       "    </tr>\n",
       "    <tr>\n",
       "      <th>175440</th>\n",
       "      <td>1.97</td>\n",
       "      <td>8.83</td>\n",
       "      <td>1.0</td>\n",
       "      <td>3.93</td>\n",
       "      <td>0</td>\n",
       "      <td>1</td>\n",
       "    </tr>\n",
       "    <tr>\n",
       "      <th>170366</th>\n",
       "      <td>5.38</td>\n",
       "      <td>9.90</td>\n",
       "      <td>1.0</td>\n",
       "      <td>2.95</td>\n",
       "      <td>0</td>\n",
       "      <td>2</td>\n",
       "    </tr>\n",
       "    <tr>\n",
       "      <th>82507</th>\n",
       "      <td>5.86</td>\n",
       "      <td>9.81</td>\n",
       "      <td>1.0</td>\n",
       "      <td>4.96</td>\n",
       "      <td>0</td>\n",
       "      <td>2</td>\n",
       "    </tr>\n",
       "  </tbody>\n",
       "</table>\n",
       "</div>"
      ],
      "text/plain": [
       "        temperatureMin  temperatureMax  uvIndex  dewPoint  Type_Binary  month\n",
       "185075            5.85           10.13      1.0      6.23            0      2\n",
       "214065            4.13            9.81      1.0      4.16            0      2\n",
       "175440            1.97            8.83      1.0      3.93            0      1\n",
       "170366            5.38            9.90      1.0      2.95            0      2\n",
       "82507             5.86            9.81      1.0      4.96            0      2"
      ]
     },
     "execution_count": 19,
     "metadata": {},
     "output_type": "execute_result"
    }
   ],
   "source": [
    "X.head()"
   ]
  },
  {
   "cell_type": "code",
   "execution_count": 20,
   "metadata": {},
   "outputs": [
    {
     "data": {
      "text/html": [
       "<div>\n",
       "<style scoped>\n",
       "    .dataframe tbody tr th:only-of-type {\n",
       "        vertical-align: middle;\n",
       "    }\n",
       "\n",
       "    .dataframe tbody tr th {\n",
       "        vertical-align: top;\n",
       "    }\n",
       "\n",
       "    .dataframe thead th {\n",
       "        text-align: right;\n",
       "    }\n",
       "</style>\n",
       "<table border=\"1\" class=\"dataframe\">\n",
       "  <thead>\n",
       "    <tr style=\"text-align: right;\">\n",
       "      <th></th>\n",
       "      <th>energy_sum</th>\n",
       "    </tr>\n",
       "  </thead>\n",
       "  <tbody>\n",
       "    <tr>\n",
       "      <th>185075</th>\n",
       "      <td>4.879</td>\n",
       "    </tr>\n",
       "    <tr>\n",
       "      <th>214065</th>\n",
       "      <td>3.123</td>\n",
       "    </tr>\n",
       "    <tr>\n",
       "      <th>175440</th>\n",
       "      <td>7.453</td>\n",
       "    </tr>\n",
       "    <tr>\n",
       "      <th>170366</th>\n",
       "      <td>23.695</td>\n",
       "    </tr>\n",
       "    <tr>\n",
       "      <th>82507</th>\n",
       "      <td>16.634</td>\n",
       "    </tr>\n",
       "    <tr>\n",
       "      <th>...</th>\n",
       "      <td>...</td>\n",
       "    </tr>\n",
       "    <tr>\n",
       "      <th>195052</th>\n",
       "      <td>19.858</td>\n",
       "    </tr>\n",
       "    <tr>\n",
       "      <th>12466</th>\n",
       "      <td>6.180</td>\n",
       "    </tr>\n",
       "    <tr>\n",
       "      <th>94720</th>\n",
       "      <td>8.551</td>\n",
       "    </tr>\n",
       "    <tr>\n",
       "      <th>213793</th>\n",
       "      <td>16.411</td>\n",
       "    </tr>\n",
       "    <tr>\n",
       "      <th>27795</th>\n",
       "      <td>9.249</td>\n",
       "    </tr>\n",
       "  </tbody>\n",
       "</table>\n",
       "<p>293000 rows × 1 columns</p>\n",
       "</div>"
      ],
      "text/plain": [
       "        energy_sum\n",
       "185075       4.879\n",
       "214065       3.123\n",
       "175440       7.453\n",
       "170366      23.695\n",
       "82507       16.634\n",
       "...            ...\n",
       "195052      19.858\n",
       "12466        6.180\n",
       "94720        8.551\n",
       "213793      16.411\n",
       "27795        9.249\n",
       "\n",
       "[293000 rows x 1 columns]"
      ]
     },
     "execution_count": 20,
     "metadata": {},
     "output_type": "execute_result"
    }
   ],
   "source": [
    "y"
   ]
  },
  {
   "cell_type": "code",
   "execution_count": 21,
   "metadata": {},
   "outputs": [],
   "source": [
    "df_model_sample.to_csv(\"../model_data/test.csv\",index = False)"
   ]
  },
  {
   "cell_type": "code",
   "execution_count": null,
   "metadata": {},
   "outputs": [],
   "source": []
  }
 ],
 "metadata": {
  "kernelspec": {
   "display_name": ".venv",
   "language": "python",
   "name": "python3"
  },
  "language_info": {
   "codemirror_mode": {
    "name": "ipython",
    "version": 3
   },
   "file_extension": ".py",
   "mimetype": "text/x-python",
   "name": "python",
   "nbconvert_exporter": "python",
   "pygments_lexer": "ipython3",
   "version": "3.11.6"
  }
 },
 "nbformat": 4,
 "nbformat_minor": 2
}
