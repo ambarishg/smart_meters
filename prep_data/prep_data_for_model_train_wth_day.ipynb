{
 "cells": [
  {
   "cell_type": "code",
   "execution_count": 1,
   "metadata": {},
   "outputs": [],
   "source": [
    "import sys\n",
    "sys.path.append(\"..\")"
   ]
  },
  {
   "cell_type": "code",
   "execution_count": 2,
   "metadata": {},
   "outputs": [],
   "source": [
    "from db.duckdb.duckdbhelper import DuckDBDatabaseHelper\n",
    "from pprint import pprint\n",
    "import pandas as pd"
   ]
  },
  {
   "cell_type": "code",
   "execution_count": 3,
   "metadata": {},
   "outputs": [],
   "source": [
    "NUM_ROWS = 1500000"
   ]
  },
  {
   "cell_type": "code",
   "execution_count": 4,
   "metadata": {},
   "outputs": [],
   "source": [
    "db = DuckDBDatabaseHelper(\"../meters.db\")"
   ]
  },
  {
   "cell_type": "code",
   "execution_count": 8,
   "metadata": {},
   "outputs": [
    {
     "name": "stdout",
     "output_type": "stream",
     "text": [
      "Connected to DuckDB database: ../meters.db\n",
      "Fetched 1966727 rows.\n",
      "Connection closed.\n"
     ]
    }
   ],
   "source": [
    "sql_query =\"\"\"\n",
    "\n",
    "SELECT day,energy_sum, \n",
    "temperatureMin, \n",
    "temperatureMax,\n",
    "uvIndex,\n",
    "dewPoint,                  \n",
    "Type,\n",
    "date_part('month', day) as month,\n",
    "m.LCLid\n",
    "FROM  meters m LEFT JOIN info_household ih\n",
    "ON m.LCLid = ih.LCLid\n",
    "LEFT JOIN weather_daily_darksky_modified wd\n",
    "ON m.day = wd.formatted_temperatureMaxTime_weather_daily_darksky\n",
    "LEFT JOIN uk_bank_holidays uk_bh\n",
    "ON m.day = uk_bh.\"Bank holidays\"\n",
    "\n",
    "WHERE date_part('year', day) = 2013\n",
    "\n",
    "\"\"\"\n",
    "\n",
    "db.connect()\n",
    "records = db.fetch_all(sql_query)\n",
    "db.close_connection()"
   ]
  },
  {
   "cell_type": "code",
   "execution_count": 9,
   "metadata": {},
   "outputs": [
    {
     "data": {
      "text/plain": [
       "[(datetime.date(2013, 1, 3),\n",
       "  10.074,\n",
       "  9.65,\n",
       "  11.41,\n",
       "  1.0,\n",
       "  9.12,\n",
       "  None,\n",
       "  1,\n",
       "  'MAC000002')]"
      ]
     },
     "execution_count": 9,
     "metadata": {},
     "output_type": "execute_result"
    }
   ],
   "source": [
    "records[:1]"
   ]
  },
  {
   "cell_type": "code",
   "execution_count": 11,
   "metadata": {},
   "outputs": [],
   "source": [
    "COLS = [\n",
    "\"day\",\"energy_sum\", \n",
    "\"temperatureMin\", \n",
    "\"temperatureMax\",\n",
    "\"uvIndex\",\n",
    "\"dewPoint\",                  \n",
    "\"Type\",\"month\",\"LCLid\" ]"
   ]
  },
  {
   "cell_type": "code",
   "execution_count": 12,
   "metadata": {},
   "outputs": [],
   "source": [
    "df_model = pd.DataFrame(records,columns = COLS)"
   ]
  },
  {
   "cell_type": "code",
   "execution_count": 13,
   "metadata": {},
   "outputs": [
    {
     "data": {
      "text/html": [
       "<div>\n",
       "<style scoped>\n",
       "    .dataframe tbody tr th:only-of-type {\n",
       "        vertical-align: middle;\n",
       "    }\n",
       "\n",
       "    .dataframe tbody tr th {\n",
       "        vertical-align: top;\n",
       "    }\n",
       "\n",
       "    .dataframe thead th {\n",
       "        text-align: right;\n",
       "    }\n",
       "</style>\n",
       "<table border=\"1\" class=\"dataframe\">\n",
       "  <thead>\n",
       "    <tr style=\"text-align: right;\">\n",
       "      <th></th>\n",
       "      <th>day</th>\n",
       "      <th>energy_sum</th>\n",
       "      <th>temperatureMin</th>\n",
       "      <th>temperatureMax</th>\n",
       "      <th>uvIndex</th>\n",
       "      <th>dewPoint</th>\n",
       "      <th>Type</th>\n",
       "      <th>month</th>\n",
       "      <th>LCLid</th>\n",
       "    </tr>\n",
       "  </thead>\n",
       "  <tbody>\n",
       "    <tr>\n",
       "      <th>0</th>\n",
       "      <td>2013-01-03</td>\n",
       "      <td>10.074</td>\n",
       "      <td>9.65</td>\n",
       "      <td>11.41</td>\n",
       "      <td>1.0</td>\n",
       "      <td>9.12</td>\n",
       "      <td>None</td>\n",
       "      <td>1</td>\n",
       "      <td>MAC000002</td>\n",
       "    </tr>\n",
       "    <tr>\n",
       "      <th>1</th>\n",
       "      <td>2013-01-06</td>\n",
       "      <td>10.293</td>\n",
       "      <td>6.91</td>\n",
       "      <td>8.61</td>\n",
       "      <td>1.0</td>\n",
       "      <td>7.00</td>\n",
       "      <td>None</td>\n",
       "      <td>1</td>\n",
       "      <td>MAC000002</td>\n",
       "    </tr>\n",
       "    <tr>\n",
       "      <th>2</th>\n",
       "      <td>2013-01-07</td>\n",
       "      <td>9.439</td>\n",
       "      <td>7.10</td>\n",
       "      <td>9.08</td>\n",
       "      <td>1.0</td>\n",
       "      <td>6.78</td>\n",
       "      <td>None</td>\n",
       "      <td>1</td>\n",
       "      <td>MAC000002</td>\n",
       "    </tr>\n",
       "    <tr>\n",
       "      <th>3</th>\n",
       "      <td>2013-01-11</td>\n",
       "      <td>10.979</td>\n",
       "      <td>0.89</td>\n",
       "      <td>5.70</td>\n",
       "      <td>1.0</td>\n",
       "      <td>1.68</td>\n",
       "      <td>None</td>\n",
       "      <td>1</td>\n",
       "      <td>MAC000002</td>\n",
       "    </tr>\n",
       "    <tr>\n",
       "      <th>4</th>\n",
       "      <td>2013-01-12</td>\n",
       "      <td>10.586</td>\n",
       "      <td>1.75</td>\n",
       "      <td>4.53</td>\n",
       "      <td>1.0</td>\n",
       "      <td>0.79</td>\n",
       "      <td>None</td>\n",
       "      <td>1</td>\n",
       "      <td>MAC000002</td>\n",
       "    </tr>\n",
       "  </tbody>\n",
       "</table>\n",
       "</div>"
      ],
      "text/plain": [
       "          day  energy_sum  temperatureMin  temperatureMax  uvIndex  dewPoint  \\\n",
       "0  2013-01-03      10.074            9.65           11.41      1.0      9.12   \n",
       "1  2013-01-06      10.293            6.91            8.61      1.0      7.00   \n",
       "2  2013-01-07       9.439            7.10            9.08      1.0      6.78   \n",
       "3  2013-01-11      10.979            0.89            5.70      1.0      1.68   \n",
       "4  2013-01-12      10.586            1.75            4.53      1.0      0.79   \n",
       "\n",
       "   Type  month      LCLid  \n",
       "0  None      1  MAC000002  \n",
       "1  None      1  MAC000002  \n",
       "2  None      1  MAC000002  \n",
       "3  None      1  MAC000002  \n",
       "4  None      1  MAC000002  "
      ]
     },
     "execution_count": 13,
     "metadata": {},
     "output_type": "execute_result"
    }
   ],
   "source": [
    "df_model.head()"
   ]
  },
  {
   "cell_type": "code",
   "execution_count": 14,
   "metadata": {},
   "outputs": [],
   "source": [
    "df_model2 = df_model[df_model[\"LCLid\"] == 'MAC000002']"
   ]
  },
  {
   "cell_type": "code",
   "execution_count": 15,
   "metadata": {},
   "outputs": [
    {
     "name": "stderr",
     "output_type": "stream",
     "text": [
      "C:\\Users\\Ambarish Ganguly\\AppData\\Local\\Temp\\ipykernel_7720\\3940123378.py:1: SettingWithCopyWarning: \n",
      "A value is trying to be set on a copy of a slice from a DataFrame.\n",
      "Try using .loc[row_indexer,col_indexer] = value instead\n",
      "\n",
      "See the caveats in the documentation: https://pandas.pydata.org/pandas-docs/stable/user_guide/indexing.html#returning-a-view-versus-a-copy\n",
      "  df_model2['Type_Binary'] = df_model2['Type'].apply(lambda x: 1 if x is not None else 0)\n"
     ]
    }
   ],
   "source": [
    "df_model2['Type_Binary'] = df_model2['Type'].apply(lambda x: 1 if x is not None else 0)"
   ]
  },
  {
   "cell_type": "code",
   "execution_count": 17,
   "metadata": {},
   "outputs": [
    {
     "data": {
      "text/plain": [
       "370"
      ]
     },
     "execution_count": 17,
     "metadata": {},
     "output_type": "execute_result"
    }
   ],
   "source": [
    "len(df_model2)"
   ]
  },
  {
   "cell_type": "code",
   "execution_count": 18,
   "metadata": {},
   "outputs": [
    {
     "data": {
      "text/plain": [
       "Index(['day', 'energy_sum', 'temperatureMin', 'temperatureMax', 'uvIndex',\n",
       "       'dewPoint', 'Type', 'month', 'LCLid', 'Type_Binary'],\n",
       "      dtype='object')"
      ]
     },
     "execution_count": 18,
     "metadata": {},
     "output_type": "execute_result"
    }
   ],
   "source": [
    "df_model2.columns"
   ]
  },
  {
   "cell_type": "code",
   "execution_count": 19,
   "metadata": {},
   "outputs": [],
   "source": [
    "df_model2.to_csv(\"../model_data/train_day.csv\",index = False)"
   ]
  }
 ],
 "metadata": {
  "kernelspec": {
   "display_name": ".venv",
   "language": "python",
   "name": "python3"
  },
  "language_info": {
   "codemirror_mode": {
    "name": "ipython",
    "version": 3
   },
   "file_extension": ".py",
   "mimetype": "text/x-python",
   "name": "python",
   "nbconvert_exporter": "python",
   "pygments_lexer": "ipython3",
   "version": "3.11.6"
  }
 },
 "nbformat": 4,
 "nbformat_minor": 2
}
