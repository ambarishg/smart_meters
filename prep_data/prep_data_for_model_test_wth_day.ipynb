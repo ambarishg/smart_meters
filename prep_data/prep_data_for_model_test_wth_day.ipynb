{
 "cells": [
  {
   "cell_type": "code",
   "execution_count": 1,
   "metadata": {},
   "outputs": [],
   "source": [
    "import sys\n",
    "sys.path.append(\"..\")"
   ]
  },
  {
   "cell_type": "code",
   "execution_count": 2,
   "metadata": {},
   "outputs": [],
   "source": [
    "from db.duckdb.duckdbhelper import DuckDBDatabaseHelper\n",
    "from pprint import pprint\n",
    "import pandas as pd"
   ]
  },
  {
   "cell_type": "code",
   "execution_count": 3,
   "metadata": {},
   "outputs": [],
   "source": [
    "NUM_ROWS = 1500000"
   ]
  },
  {
   "cell_type": "code",
   "execution_count": 4,
   "metadata": {},
   "outputs": [],
   "source": [
    "db = DuckDBDatabaseHelper(\"../meters.db\")"
   ]
  },
  {
   "cell_type": "code",
   "execution_count": 5,
   "metadata": {},
   "outputs": [
    {
     "name": "stdout",
     "output_type": "stream",
     "text": [
      "Connected to DuckDB database: ../meters.db\n",
      "Fetched 157488 rows.\n",
      "Connection closed.\n"
     ]
    }
   ],
   "source": [
    "sql_query =\"\"\"\n",
    "\n",
    "SELECT day,energy_sum, \n",
    "temperatureMin, \n",
    "temperatureMax,\n",
    "uvIndex,\n",
    "dewPoint,                  \n",
    "Type,\n",
    "date_part('month', day) as month,\n",
    "m.LCLid\n",
    "FROM  meters m LEFT JOIN info_household ih\n",
    "ON m.LCLid = ih.LCLid\n",
    "LEFT JOIN weather_daily_darksky_modified wd\n",
    "ON m.day = wd.formatted_temperatureMaxTime_weather_daily_darksky\n",
    "LEFT JOIN uk_bank_holidays uk_bh\n",
    "ON m.day = uk_bh.\"Bank holidays\"\n",
    "\n",
    "WHERE date_part('year', day) = 2014\n",
    "AND date_part('month', day) = 1\n",
    "\n",
    "\"\"\"\n",
    "\n",
    "db.connect()\n",
    "records = db.fetch_all(sql_query)\n",
    "db.close_connection()"
   ]
  },
  {
   "cell_type": "code",
   "execution_count": 6,
   "metadata": {},
   "outputs": [
    {
     "data": {
      "text/plain": [
       "[(datetime.date(2014, 1, 2),\n",
       "  22.529999899999996,\n",
       "  6.54,\n",
       "  10.75,\n",
       "  1.0,\n",
       "  6.02,\n",
       "  None,\n",
       "  1,\n",
       "  'MAC003223')]"
      ]
     },
     "execution_count": 6,
     "metadata": {},
     "output_type": "execute_result"
    }
   ],
   "source": [
    "records[:1]"
   ]
  },
  {
   "cell_type": "code",
   "execution_count": 7,
   "metadata": {},
   "outputs": [],
   "source": [
    "COLS = [\n",
    "\"day\",\"energy_sum\", \n",
    "\"temperatureMin\", \n",
    "\"temperatureMax\",\n",
    "\"uvIndex\",\n",
    "\"dewPoint\",                  \n",
    "\"Type\",\"month\",\"LCLid\" ]"
   ]
  },
  {
   "cell_type": "code",
   "execution_count": 8,
   "metadata": {},
   "outputs": [],
   "source": [
    "df_model = pd.DataFrame(records,columns = COLS)"
   ]
  },
  {
   "cell_type": "code",
   "execution_count": 9,
   "metadata": {},
   "outputs": [
    {
     "data": {
      "text/html": [
       "<div>\n",
       "<style scoped>\n",
       "    .dataframe tbody tr th:only-of-type {\n",
       "        vertical-align: middle;\n",
       "    }\n",
       "\n",
       "    .dataframe tbody tr th {\n",
       "        vertical-align: top;\n",
       "    }\n",
       "\n",
       "    .dataframe thead th {\n",
       "        text-align: right;\n",
       "    }\n",
       "</style>\n",
       "<table border=\"1\" class=\"dataframe\">\n",
       "  <thead>\n",
       "    <tr style=\"text-align: right;\">\n",
       "      <th></th>\n",
       "      <th>day</th>\n",
       "      <th>energy_sum</th>\n",
       "      <th>temperatureMin</th>\n",
       "      <th>temperatureMax</th>\n",
       "      <th>uvIndex</th>\n",
       "      <th>dewPoint</th>\n",
       "      <th>Type</th>\n",
       "      <th>month</th>\n",
       "      <th>LCLid</th>\n",
       "    </tr>\n",
       "  </thead>\n",
       "  <tbody>\n",
       "    <tr>\n",
       "      <th>0</th>\n",
       "      <td>2014-01-02</td>\n",
       "      <td>22.530</td>\n",
       "      <td>6.54</td>\n",
       "      <td>10.75</td>\n",
       "      <td>1.0</td>\n",
       "      <td>6.02</td>\n",
       "      <td>None</td>\n",
       "      <td>1</td>\n",
       "      <td>MAC003223</td>\n",
       "    </tr>\n",
       "    <tr>\n",
       "      <th>1</th>\n",
       "      <td>2014-01-03</td>\n",
       "      <td>19.105</td>\n",
       "      <td>7.01</td>\n",
       "      <td>10.49</td>\n",
       "      <td>1.0</td>\n",
       "      <td>5.08</td>\n",
       "      <td>None</td>\n",
       "      <td>1</td>\n",
       "      <td>MAC003223</td>\n",
       "    </tr>\n",
       "    <tr>\n",
       "      <th>2</th>\n",
       "      <td>2014-01-06</td>\n",
       "      <td>24.482</td>\n",
       "      <td>9.34</td>\n",
       "      <td>12.57</td>\n",
       "      <td>1.0</td>\n",
       "      <td>7.64</td>\n",
       "      <td>None</td>\n",
       "      <td>1</td>\n",
       "      <td>MAC003223</td>\n",
       "    </tr>\n",
       "    <tr>\n",
       "      <th>3</th>\n",
       "      <td>2014-01-07</td>\n",
       "      <td>23.529</td>\n",
       "      <td>8.98</td>\n",
       "      <td>11.38</td>\n",
       "      <td>1.0</td>\n",
       "      <td>6.63</td>\n",
       "      <td>None</td>\n",
       "      <td>1</td>\n",
       "      <td>MAC003223</td>\n",
       "    </tr>\n",
       "    <tr>\n",
       "      <th>4</th>\n",
       "      <td>2014-01-08</td>\n",
       "      <td>18.502</td>\n",
       "      <td>7.37</td>\n",
       "      <td>11.62</td>\n",
       "      <td>1.0</td>\n",
       "      <td>7.02</td>\n",
       "      <td>None</td>\n",
       "      <td>1</td>\n",
       "      <td>MAC003223</td>\n",
       "    </tr>\n",
       "  </tbody>\n",
       "</table>\n",
       "</div>"
      ],
      "text/plain": [
       "          day  energy_sum  temperatureMin  temperatureMax  uvIndex  dewPoint  \\\n",
       "0  2014-01-02      22.530            6.54           10.75      1.0      6.02   \n",
       "1  2014-01-03      19.105            7.01           10.49      1.0      5.08   \n",
       "2  2014-01-06      24.482            9.34           12.57      1.0      7.64   \n",
       "3  2014-01-07      23.529            8.98           11.38      1.0      6.63   \n",
       "4  2014-01-08      18.502            7.37           11.62      1.0      7.02   \n",
       "\n",
       "   Type  month      LCLid  \n",
       "0  None      1  MAC003223  \n",
       "1  None      1  MAC003223  \n",
       "2  None      1  MAC003223  \n",
       "3  None      1  MAC003223  \n",
       "4  None      1  MAC003223  "
      ]
     },
     "execution_count": 9,
     "metadata": {},
     "output_type": "execute_result"
    }
   ],
   "source": [
    "df_model.head()"
   ]
  },
  {
   "cell_type": "code",
   "execution_count": 10,
   "metadata": {},
   "outputs": [],
   "source": [
    "df_model2 = df_model[df_model[\"LCLid\"] == 'MAC000002']"
   ]
  },
  {
   "cell_type": "code",
   "execution_count": 11,
   "metadata": {},
   "outputs": [
    {
     "name": "stderr",
     "output_type": "stream",
     "text": [
      "C:\\Users\\Ambarish Ganguly\\AppData\\Local\\Temp\\ipykernel_17688\\3940123378.py:1: SettingWithCopyWarning: \n",
      "A value is trying to be set on a copy of a slice from a DataFrame.\n",
      "Try using .loc[row_indexer,col_indexer] = value instead\n",
      "\n",
      "See the caveats in the documentation: https://pandas.pydata.org/pandas-docs/stable/user_guide/indexing.html#returning-a-view-versus-a-copy\n",
      "  df_model2['Type_Binary'] = df_model2['Type'].apply(lambda x: 1 if x is not None else 0)\n"
     ]
    }
   ],
   "source": [
    "df_model2['Type_Binary'] = df_model2['Type'].apply(lambda x: 1 if x is not None else 0)"
   ]
  },
  {
   "cell_type": "code",
   "execution_count": 12,
   "metadata": {},
   "outputs": [
    {
     "data": {
      "text/plain": [
       "31"
      ]
     },
     "execution_count": 12,
     "metadata": {},
     "output_type": "execute_result"
    }
   ],
   "source": [
    "len(df_model2)"
   ]
  },
  {
   "cell_type": "code",
   "execution_count": 13,
   "metadata": {},
   "outputs": [
    {
     "data": {
      "text/plain": [
       "Index(['day', 'energy_sum', 'temperatureMin', 'temperatureMax', 'uvIndex',\n",
       "       'dewPoint', 'Type', 'month', 'LCLid', 'Type_Binary'],\n",
       "      dtype='object')"
      ]
     },
     "execution_count": 13,
     "metadata": {},
     "output_type": "execute_result"
    }
   ],
   "source": [
    "df_model2.columns"
   ]
  },
  {
   "cell_type": "code",
   "execution_count": 14,
   "metadata": {},
   "outputs": [],
   "source": [
    "df_model2.to_csv(\"../model_data/test_day.csv\",index = False)"
   ]
  }
 ],
 "metadata": {
  "kernelspec": {
   "display_name": ".venv",
   "language": "python",
   "name": "python3"
  },
  "language_info": {
   "codemirror_mode": {
    "name": "ipython",
    "version": 3
   },
   "file_extension": ".py",
   "mimetype": "text/x-python",
   "name": "python",
   "nbconvert_exporter": "python",
   "pygments_lexer": "ipython3",
   "version": "3.11.6"
  }
 },
 "nbformat": 4,
 "nbformat_minor": 2
}
