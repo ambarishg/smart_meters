{
 "cells": [
  {
   "cell_type": "code",
   "execution_count": 1,
   "metadata": {},
   "outputs": [],
   "source": [
    "import pandas as pd"
   ]
  },
  {
   "cell_type": "code",
   "execution_count": 2,
   "metadata": {},
   "outputs": [],
   "source": [
    "train = pd.read_csv(\"train.csv\")"
   ]
  },
  {
   "cell_type": "code",
   "execution_count": 3,
   "metadata": {},
   "outputs": [
    {
     "data": {
      "text/plain": [
       "array([ 8,  5,  9,  1,  7,  2, 11, 10,  3,  6,  4, 12])"
      ]
     },
     "execution_count": 3,
     "metadata": {},
     "output_type": "execute_result"
    }
   ],
   "source": [
    "train[\"month\"].unique()"
   ]
  },
  {
   "cell_type": "code",
   "execution_count": 4,
   "metadata": {},
   "outputs": [
    {
     "data": {
      "text/plain": [
       "12"
      ]
     },
     "execution_count": 4,
     "metadata": {},
     "output_type": "execute_result"
    }
   ],
   "source": [
    "len(train[\"month\"].unique())"
   ]
  },
  {
   "cell_type": "code",
   "execution_count": 5,
   "metadata": {},
   "outputs": [
    {
     "data": {
      "text/plain": [
       "Index(['day', 'energy_sum', 'temperatureMin', 'temperatureMax', 'uvIndex',\n",
       "       'dewPoint', 'Type', 'month'],\n",
       "      dtype='object')"
      ]
     },
     "execution_count": 5,
     "metadata": {},
     "output_type": "execute_result"
    }
   ],
   "source": [
    "train.columns"
   ]
  },
  {
   "cell_type": "code",
   "execution_count": 8,
   "metadata": {},
   "outputs": [
    {
     "data": {
      "text/html": [
       "<div>\n",
       "<style scoped>\n",
       "    .dataframe tbody tr th:only-of-type {\n",
       "        vertical-align: middle;\n",
       "    }\n",
       "\n",
       "    .dataframe tbody tr th {\n",
       "        vertical-align: top;\n",
       "    }\n",
       "\n",
       "    .dataframe thead th {\n",
       "        text-align: right;\n",
       "    }\n",
       "</style>\n",
       "<table border=\"1\" class=\"dataframe\">\n",
       "  <thead>\n",
       "    <tr style=\"text-align: right;\">\n",
       "      <th></th>\n",
       "      <th>energy_sum</th>\n",
       "      <th>temperatureMin</th>\n",
       "      <th>temperatureMax</th>\n",
       "      <th>uvIndex</th>\n",
       "      <th>dewPoint</th>\n",
       "      <th>month</th>\n",
       "    </tr>\n",
       "  </thead>\n",
       "  <tbody>\n",
       "    <tr>\n",
       "      <th>count</th>\n",
       "      <td>1.499994e+06</td>\n",
       "      <td>1.479749e+06</td>\n",
       "      <td>1.479749e+06</td>\n",
       "      <td>1.479749e+06</td>\n",
       "      <td>1.479749e+06</td>\n",
       "      <td>1.500000e+06</td>\n",
       "    </tr>\n",
       "    <tr>\n",
       "      <th>mean</th>\n",
       "      <td>1.008418e+01</td>\n",
       "      <td>7.647354e+00</td>\n",
       "      <td>1.397518e+01</td>\n",
       "      <td>2.690789e+00</td>\n",
       "      <td>6.473584e+00</td>\n",
       "      <td>6.457207e+00</td>\n",
       "    </tr>\n",
       "    <tr>\n",
       "      <th>std</th>\n",
       "      <td>9.163867e+00</td>\n",
       "      <td>5.373244e+00</td>\n",
       "      <td>7.082641e+00</td>\n",
       "      <td>1.817016e+00</td>\n",
       "      <td>5.491731e+00</td>\n",
       "      <td>3.432789e+00</td>\n",
       "    </tr>\n",
       "    <tr>\n",
       "      <th>min</th>\n",
       "      <td>0.000000e+00</td>\n",
       "      <td>-3.860000e+00</td>\n",
       "      <td>-6.000000e-02</td>\n",
       "      <td>0.000000e+00</td>\n",
       "      <td>-5.540000e+00</td>\n",
       "      <td>1.000000e+00</td>\n",
       "    </tr>\n",
       "    <tr>\n",
       "      <th>25%</th>\n",
       "      <td>4.654000e+00</td>\n",
       "      <td>2.860000e+00</td>\n",
       "      <td>8.610000e+00</td>\n",
       "      <td>1.000000e+00</td>\n",
       "      <td>2.220000e+00</td>\n",
       "      <td>3.000000e+00</td>\n",
       "    </tr>\n",
       "    <tr>\n",
       "      <th>50%</th>\n",
       "      <td>7.779000e+00</td>\n",
       "      <td>7.650000e+00</td>\n",
       "      <td>1.364000e+01</td>\n",
       "      <td>2.000000e+00</td>\n",
       "      <td>6.830000e+00</td>\n",
       "      <td>6.000000e+00</td>\n",
       "    </tr>\n",
       "    <tr>\n",
       "      <th>75%</th>\n",
       "      <td>1.247000e+01</td>\n",
       "      <td>1.216000e+01</td>\n",
       "      <td>1.935000e+01</td>\n",
       "      <td>4.000000e+00</td>\n",
       "      <td>1.067000e+01</td>\n",
       "      <td>9.000000e+00</td>\n",
       "    </tr>\n",
       "    <tr>\n",
       "      <th>max</th>\n",
       "      <td>3.216970e+02</td>\n",
       "      <td>1.929000e+01</td>\n",
       "      <td>3.240000e+01</td>\n",
       "      <td>7.000000e+00</td>\n",
       "      <td>1.761000e+01</td>\n",
       "      <td>1.200000e+01</td>\n",
       "    </tr>\n",
       "  </tbody>\n",
       "</table>\n",
       "</div>"
      ],
      "text/plain": [
       "         energy_sum  temperatureMin  temperatureMax       uvIndex  \\\n",
       "count  1.499994e+06    1.479749e+06    1.479749e+06  1.479749e+06   \n",
       "mean   1.008418e+01    7.647354e+00    1.397518e+01  2.690789e+00   \n",
       "std    9.163867e+00    5.373244e+00    7.082641e+00  1.817016e+00   \n",
       "min    0.000000e+00   -3.860000e+00   -6.000000e-02  0.000000e+00   \n",
       "25%    4.654000e+00    2.860000e+00    8.610000e+00  1.000000e+00   \n",
       "50%    7.779000e+00    7.650000e+00    1.364000e+01  2.000000e+00   \n",
       "75%    1.247000e+01    1.216000e+01    1.935000e+01  4.000000e+00   \n",
       "max    3.216970e+02    1.929000e+01    3.240000e+01  7.000000e+00   \n",
       "\n",
       "           dewPoint         month  \n",
       "count  1.479749e+06  1.500000e+06  \n",
       "mean   6.473584e+00  6.457207e+00  \n",
       "std    5.491731e+00  3.432789e+00  \n",
       "min   -5.540000e+00  1.000000e+00  \n",
       "25%    2.220000e+00  3.000000e+00  \n",
       "50%    6.830000e+00  6.000000e+00  \n",
       "75%    1.067000e+01  9.000000e+00  \n",
       "max    1.761000e+01  1.200000e+01  "
      ]
     },
     "execution_count": 8,
     "metadata": {},
     "output_type": "execute_result"
    }
   ],
   "source": [
    "train.describe()"
   ]
  },
  {
   "cell_type": "code",
   "execution_count": null,
   "metadata": {},
   "outputs": [],
   "source": []
  }
 ],
 "metadata": {
  "kernelspec": {
   "display_name": ".venv",
   "language": "python",
   "name": "python3"
  },
  "language_info": {
   "codemirror_mode": {
    "name": "ipython",
    "version": 3
   },
   "file_extension": ".py",
   "mimetype": "text/x-python",
   "name": "python",
   "nbconvert_exporter": "python",
   "pygments_lexer": "ipython3",
   "version": "3.11.6"
  }
 },
 "nbformat": 4,
 "nbformat_minor": 2
}
