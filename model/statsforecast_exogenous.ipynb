{
 "cells": [
  {
   "cell_type": "markdown",
   "metadata": {},
   "source": [
    "This prediction is for  LCLId = MAC000002\n",
    "* Using ARIMA\n",
    "* Using MSTL"
   ]
  },
  {
   "cell_type": "code",
   "execution_count": 1,
   "metadata": {},
   "outputs": [],
   "source": [
    "from statsforecast import StatsForecast\n",
    "from statsforecast.models import AutoARIMA\n",
    "import pandas as pd\n",
    "import matplotlib.pyplot as plt\n",
    "import seaborn as sns"
   ]
  },
  {
   "cell_type": "code",
   "execution_count": 2,
   "metadata": {},
   "outputs": [],
   "source": [
    "import sys\n",
    "sys.path.append(\"..\")\n",
    "from db.duckdb.duckdbhelper import DuckDBDatabaseHelper\n",
    "db = DuckDBDatabaseHelper(\"../meters.db\")"
   ]
  },
  {
   "cell_type": "code",
   "execution_count": 3,
   "metadata": {},
   "outputs": [],
   "source": [
    "train = pd.read_csv(\"../model_data/train_day.csv\")\n",
    "test = pd.read_csv(\"../model_data/test_day.csv\")"
   ]
  },
  {
   "cell_type": "code",
   "execution_count": 4,
   "metadata": {},
   "outputs": [
    {
     "data": {
      "text/plain": [
       "Index(['day', 'energy_sum', 'temperatureMin', 'temperatureMax', 'uvIndex',\n",
       "       'dewPoint', 'Type', 'month', 'LCLid', 'Type_Binary'],\n",
       "      dtype='object')"
      ]
     },
     "execution_count": 4,
     "metadata": {},
     "output_type": "execute_result"
    }
   ],
   "source": [
    "train.columns"
   ]
  },
  {
   "cell_type": "code",
   "execution_count": 5,
   "metadata": {},
   "outputs": [
    {
     "data": {
      "text/plain": [
       "370"
      ]
     },
     "execution_count": 5,
     "metadata": {},
     "output_type": "execute_result"
    }
   ],
   "source": [
    "len(train)"
   ]
  },
  {
   "cell_type": "code",
   "execution_count": 6,
   "metadata": {},
   "outputs": [
    {
     "data": {
      "text/html": [
       "<div>\n",
       "<style scoped>\n",
       "    .dataframe tbody tr th:only-of-type {\n",
       "        vertical-align: middle;\n",
       "    }\n",
       "\n",
       "    .dataframe tbody tr th {\n",
       "        vertical-align: top;\n",
       "    }\n",
       "\n",
       "    .dataframe thead th {\n",
       "        text-align: right;\n",
       "    }\n",
       "</style>\n",
       "<table border=\"1\" class=\"dataframe\">\n",
       "  <thead>\n",
       "    <tr style=\"text-align: right;\">\n",
       "      <th></th>\n",
       "      <th>day</th>\n",
       "      <th>energy_sum</th>\n",
       "      <th>temperatureMin</th>\n",
       "      <th>temperatureMax</th>\n",
       "      <th>uvIndex</th>\n",
       "      <th>dewPoint</th>\n",
       "      <th>Type</th>\n",
       "      <th>month</th>\n",
       "      <th>LCLid</th>\n",
       "      <th>Type_Binary</th>\n",
       "    </tr>\n",
       "  </thead>\n",
       "  <tbody>\n",
       "    <tr>\n",
       "      <th>0</th>\n",
       "      <td>2013-01-03</td>\n",
       "      <td>10.074</td>\n",
       "      <td>9.65</td>\n",
       "      <td>11.41</td>\n",
       "      <td>1.0</td>\n",
       "      <td>9.12</td>\n",
       "      <td>NaN</td>\n",
       "      <td>1</td>\n",
       "      <td>MAC000002</td>\n",
       "      <td>0</td>\n",
       "    </tr>\n",
       "    <tr>\n",
       "      <th>1</th>\n",
       "      <td>2013-01-06</td>\n",
       "      <td>10.293</td>\n",
       "      <td>6.91</td>\n",
       "      <td>8.61</td>\n",
       "      <td>1.0</td>\n",
       "      <td>7.00</td>\n",
       "      <td>NaN</td>\n",
       "      <td>1</td>\n",
       "      <td>MAC000002</td>\n",
       "      <td>0</td>\n",
       "    </tr>\n",
       "    <tr>\n",
       "      <th>2</th>\n",
       "      <td>2013-01-07</td>\n",
       "      <td>9.439</td>\n",
       "      <td>7.10</td>\n",
       "      <td>9.08</td>\n",
       "      <td>1.0</td>\n",
       "      <td>6.78</td>\n",
       "      <td>NaN</td>\n",
       "      <td>1</td>\n",
       "      <td>MAC000002</td>\n",
       "      <td>0</td>\n",
       "    </tr>\n",
       "    <tr>\n",
       "      <th>3</th>\n",
       "      <td>2013-01-11</td>\n",
       "      <td>10.979</td>\n",
       "      <td>0.89</td>\n",
       "      <td>5.70</td>\n",
       "      <td>1.0</td>\n",
       "      <td>1.68</td>\n",
       "      <td>NaN</td>\n",
       "      <td>1</td>\n",
       "      <td>MAC000002</td>\n",
       "      <td>0</td>\n",
       "    </tr>\n",
       "    <tr>\n",
       "      <th>4</th>\n",
       "      <td>2013-01-12</td>\n",
       "      <td>10.586</td>\n",
       "      <td>1.75</td>\n",
       "      <td>4.53</td>\n",
       "      <td>1.0</td>\n",
       "      <td>0.79</td>\n",
       "      <td>NaN</td>\n",
       "      <td>1</td>\n",
       "      <td>MAC000002</td>\n",
       "      <td>0</td>\n",
       "    </tr>\n",
       "  </tbody>\n",
       "</table>\n",
       "</div>"
      ],
      "text/plain": [
       "          day  energy_sum  temperatureMin  temperatureMax  uvIndex  dewPoint  \\\n",
       "0  2013-01-03      10.074            9.65           11.41      1.0      9.12   \n",
       "1  2013-01-06      10.293            6.91            8.61      1.0      7.00   \n",
       "2  2013-01-07       9.439            7.10            9.08      1.0      6.78   \n",
       "3  2013-01-11      10.979            0.89            5.70      1.0      1.68   \n",
       "4  2013-01-12      10.586            1.75            4.53      1.0      0.79   \n",
       "\n",
       "  Type  month      LCLid  Type_Binary  \n",
       "0  NaN      1  MAC000002            0  \n",
       "1  NaN      1  MAC000002            0  \n",
       "2  NaN      1  MAC000002            0  \n",
       "3  NaN      1  MAC000002            0  \n",
       "4  NaN      1  MAC000002            0  "
      ]
     },
     "execution_count": 6,
     "metadata": {},
     "output_type": "execute_result"
    }
   ],
   "source": [
    "train.head()"
   ]
  },
  {
   "cell_type": "code",
   "execution_count": 7,
   "metadata": {},
   "outputs": [],
   "source": [
    "df = pd.DataFrame()\n",
    "df[\"unique_id\"] =[\"Energy\"] *len(train)\n",
    "df[\"ds\"] = train[\"day\"]\n",
    "df[\"y\"] = train[\"energy_sum\"]\n",
    "#Add exogenous regressors\n",
    "# 'temperatureMin', 'temperatureMax', 'uvIndex',\n",
    "# 'dewPoint', 'Type_Binary'\n",
    "\n",
    "df['temperatureMin'] = train['temperatureMin']\n",
    "df['temperatureMax'] = train['temperatureMax']\n",
    "df['uvIndex'] = train['uvIndex']\n",
    "df['dewPoint'] = train['dewPoint']\n",
    "df['Type_Binary'] = train['Type_Binary']\n"
   ]
  },
  {
   "cell_type": "code",
   "execution_count": 8,
   "metadata": {},
   "outputs": [],
   "source": [
    "X_df = pd.DataFrame()\n",
    "X_df[\"unique_id\"] = [\"Energy\"] *len(test)\n",
    "X_df[\"ds\"] = pd.to_datetime(test[\"day\"])\n",
    "X_df['temperatureMin'] = test['temperatureMin']\n",
    "X_df['temperatureMax'] = test['temperatureMax']\n",
    "X_df['uvIndex'] = test['uvIndex']\n",
    "X_df['dewPoint'] = test['dewPoint']\n",
    "X_df['Type_Binary'] = test['Type_Binary']"
   ]
  },
  {
   "cell_type": "code",
   "execution_count": 9,
   "metadata": {},
   "outputs": [
    {
     "data": {
      "text/html": [
       "<div>\n",
       "<style scoped>\n",
       "    .dataframe tbody tr th:only-of-type {\n",
       "        vertical-align: middle;\n",
       "    }\n",
       "\n",
       "    .dataframe tbody tr th {\n",
       "        vertical-align: top;\n",
       "    }\n",
       "\n",
       "    .dataframe thead th {\n",
       "        text-align: right;\n",
       "    }\n",
       "</style>\n",
       "<table border=\"1\" class=\"dataframe\">\n",
       "  <thead>\n",
       "    <tr style=\"text-align: right;\">\n",
       "      <th></th>\n",
       "      <th>unique_id</th>\n",
       "      <th>ds</th>\n",
       "      <th>temperatureMin</th>\n",
       "      <th>temperatureMax</th>\n",
       "      <th>uvIndex</th>\n",
       "      <th>dewPoint</th>\n",
       "      <th>Type_Binary</th>\n",
       "    </tr>\n",
       "  </thead>\n",
       "  <tbody>\n",
       "    <tr>\n",
       "      <th>0</th>\n",
       "      <td>Energy</td>\n",
       "      <td>2014-01-01</td>\n",
       "      <td>6.59</td>\n",
       "      <td>11.34</td>\n",
       "      <td>NaN</td>\n",
       "      <td>6.78</td>\n",
       "      <td>1</td>\n",
       "    </tr>\n",
       "    <tr>\n",
       "      <th>1</th>\n",
       "      <td>Energy</td>\n",
       "      <td>2014-01-02</td>\n",
       "      <td>6.54</td>\n",
       "      <td>10.75</td>\n",
       "      <td>1.0</td>\n",
       "      <td>6.02</td>\n",
       "      <td>0</td>\n",
       "    </tr>\n",
       "    <tr>\n",
       "      <th>2</th>\n",
       "      <td>Energy</td>\n",
       "      <td>2014-01-03</td>\n",
       "      <td>7.01</td>\n",
       "      <td>10.49</td>\n",
       "      <td>1.0</td>\n",
       "      <td>5.08</td>\n",
       "      <td>0</td>\n",
       "    </tr>\n",
       "    <tr>\n",
       "      <th>3</th>\n",
       "      <td>Energy</td>\n",
       "      <td>2014-01-06</td>\n",
       "      <td>9.34</td>\n",
       "      <td>12.57</td>\n",
       "      <td>1.0</td>\n",
       "      <td>7.64</td>\n",
       "      <td>0</td>\n",
       "    </tr>\n",
       "    <tr>\n",
       "      <th>4</th>\n",
       "      <td>Energy</td>\n",
       "      <td>2014-01-07</td>\n",
       "      <td>8.98</td>\n",
       "      <td>11.38</td>\n",
       "      <td>1.0</td>\n",
       "      <td>6.63</td>\n",
       "      <td>0</td>\n",
       "    </tr>\n",
       "    <tr>\n",
       "      <th>5</th>\n",
       "      <td>Energy</td>\n",
       "      <td>2014-01-08</td>\n",
       "      <td>7.37</td>\n",
       "      <td>11.62</td>\n",
       "      <td>1.0</td>\n",
       "      <td>7.02</td>\n",
       "      <td>0</td>\n",
       "    </tr>\n",
       "  </tbody>\n",
       "</table>\n",
       "</div>"
      ],
      "text/plain": [
       "  unique_id         ds  temperatureMin  temperatureMax  uvIndex  dewPoint  \\\n",
       "0    Energy 2014-01-01            6.59           11.34      NaN      6.78   \n",
       "1    Energy 2014-01-02            6.54           10.75      1.0      6.02   \n",
       "2    Energy 2014-01-03            7.01           10.49      1.0      5.08   \n",
       "3    Energy 2014-01-06            9.34           12.57      1.0      7.64   \n",
       "4    Energy 2014-01-07            8.98           11.38      1.0      6.63   \n",
       "5    Energy 2014-01-08            7.37           11.62      1.0      7.02   \n",
       "\n",
       "   Type_Binary  \n",
       "0            1  \n",
       "1            0  \n",
       "2            0  \n",
       "3            0  \n",
       "4            0  \n",
       "5            0  "
      ]
     },
     "execution_count": 9,
     "metadata": {},
     "output_type": "execute_result"
    }
   ],
   "source": [
    "X_df[:6]"
   ]
  },
  {
   "cell_type": "code",
   "execution_count": 10,
   "metadata": {},
   "outputs": [
    {
     "data": {
      "text/plain": [
       "370"
      ]
     },
     "execution_count": 10,
     "metadata": {},
     "output_type": "execute_result"
    }
   ],
   "source": [
    "len(df)"
   ]
  },
  {
   "cell_type": "code",
   "execution_count": 11,
   "metadata": {},
   "outputs": [],
   "source": [
    "df = df.dropna()"
   ]
  },
  {
   "cell_type": "code",
   "execution_count": 12,
   "metadata": {},
   "outputs": [
    {
     "data": {
      "text/plain": [
       "365"
      ]
     },
     "execution_count": 12,
     "metadata": {},
     "output_type": "execute_result"
    }
   ],
   "source": [
    "len(df)"
   ]
  },
  {
   "cell_type": "code",
   "execution_count": 13,
   "metadata": {},
   "outputs": [
    {
     "data": {
      "text/html": [
       "<div>\n",
       "<style scoped>\n",
       "    .dataframe tbody tr th:only-of-type {\n",
       "        vertical-align: middle;\n",
       "    }\n",
       "\n",
       "    .dataframe tbody tr th {\n",
       "        vertical-align: top;\n",
       "    }\n",
       "\n",
       "    .dataframe thead th {\n",
       "        text-align: right;\n",
       "    }\n",
       "</style>\n",
       "<table border=\"1\" class=\"dataframe\">\n",
       "  <thead>\n",
       "    <tr style=\"text-align: right;\">\n",
       "      <th></th>\n",
       "      <th>unique_id</th>\n",
       "      <th>ds</th>\n",
       "      <th>y</th>\n",
       "      <th>temperatureMin</th>\n",
       "      <th>temperatureMax</th>\n",
       "      <th>uvIndex</th>\n",
       "      <th>dewPoint</th>\n",
       "      <th>Type_Binary</th>\n",
       "    </tr>\n",
       "  </thead>\n",
       "  <tbody>\n",
       "    <tr>\n",
       "      <th>0</th>\n",
       "      <td>Energy</td>\n",
       "      <td>2013-01-03</td>\n",
       "      <td>10.074</td>\n",
       "      <td>9.65</td>\n",
       "      <td>11.41</td>\n",
       "      <td>1.0</td>\n",
       "      <td>9.12</td>\n",
       "      <td>0</td>\n",
       "    </tr>\n",
       "    <tr>\n",
       "      <th>1</th>\n",
       "      <td>Energy</td>\n",
       "      <td>2013-01-06</td>\n",
       "      <td>10.293</td>\n",
       "      <td>6.91</td>\n",
       "      <td>8.61</td>\n",
       "      <td>1.0</td>\n",
       "      <td>7.00</td>\n",
       "      <td>0</td>\n",
       "    </tr>\n",
       "    <tr>\n",
       "      <th>2</th>\n",
       "      <td>Energy</td>\n",
       "      <td>2013-01-07</td>\n",
       "      <td>9.439</td>\n",
       "      <td>7.10</td>\n",
       "      <td>9.08</td>\n",
       "      <td>1.0</td>\n",
       "      <td>6.78</td>\n",
       "      <td>0</td>\n",
       "    </tr>\n",
       "    <tr>\n",
       "      <th>3</th>\n",
       "      <td>Energy</td>\n",
       "      <td>2013-01-11</td>\n",
       "      <td>10.979</td>\n",
       "      <td>0.89</td>\n",
       "      <td>5.70</td>\n",
       "      <td>1.0</td>\n",
       "      <td>1.68</td>\n",
       "      <td>0</td>\n",
       "    </tr>\n",
       "    <tr>\n",
       "      <th>4</th>\n",
       "      <td>Energy</td>\n",
       "      <td>2013-01-12</td>\n",
       "      <td>10.586</td>\n",
       "      <td>1.75</td>\n",
       "      <td>4.53</td>\n",
       "      <td>1.0</td>\n",
       "      <td>0.79</td>\n",
       "      <td>0</td>\n",
       "    </tr>\n",
       "  </tbody>\n",
       "</table>\n",
       "</div>"
      ],
      "text/plain": [
       "  unique_id          ds       y  temperatureMin  temperatureMax  uvIndex  \\\n",
       "0    Energy  2013-01-03  10.074            9.65           11.41      1.0   \n",
       "1    Energy  2013-01-06  10.293            6.91            8.61      1.0   \n",
       "2    Energy  2013-01-07   9.439            7.10            9.08      1.0   \n",
       "3    Energy  2013-01-11  10.979            0.89            5.70      1.0   \n",
       "4    Energy  2013-01-12  10.586            1.75            4.53      1.0   \n",
       "\n",
       "   dewPoint  Type_Binary  \n",
       "0      9.12            0  \n",
       "1      7.00            0  \n",
       "2      6.78            0  \n",
       "3      1.68            0  \n",
       "4      0.79            0  "
      ]
     },
     "execution_count": 13,
     "metadata": {},
     "output_type": "execute_result"
    }
   ],
   "source": [
    "df.head()"
   ]
  },
  {
   "cell_type": "code",
   "execution_count": 14,
   "metadata": {},
   "outputs": [
    {
     "data": {
      "image/png": "[encoded data removed]",
      "text/plain": [
       "<Figure size 1600x350 with 1 Axes>"
      ]
     },
     "execution_count": 14,
     "metadata": {},
     "output_type": "execute_result"
    }
   ],
   "source": [
    "StatsForecast.plot(df)"
   ]
  },
  {
   "cell_type": "code",
   "execution_count": 15,
   "metadata": {},
   "outputs": [
    {
     "data": {
      "text/plain": [
       "StatsForecast(models=[AutoARIMA])"
      ]
     },
     "execution_count": 15,
     "metadata": {},
     "output_type": "execute_result"
    }
   ],
   "source": [
    "sf = StatsForecast(\n",
    "    models=[AutoARIMA()],\n",
    "    freq='D'\n",
    ")\n",
    "sf.fit(df)"
   ]
  },
  {
   "cell_type": "code",
   "execution_count": 16,
   "metadata": {},
   "outputs": [
    {
     "data": {
      "text/html": [
       "<div>\n",
       "<style scoped>\n",
       "    .dataframe tbody tr th:only-of-type {\n",
       "        vertical-align: middle;\n",
       "    }\n",
       "\n",
       "    .dataframe tbody tr th {\n",
       "        vertical-align: top;\n",
       "    }\n",
       "\n",
       "    .dataframe thead th {\n",
       "        text-align: right;\n",
       "    }\n",
       "</style>\n",
       "<table border=\"1\" class=\"dataframe\">\n",
       "  <thead>\n",
       "    <tr style=\"text-align: right;\">\n",
       "      <th></th>\n",
       "      <th>unique_id</th>\n",
       "      <th>ds</th>\n",
       "      <th>AutoARIMA</th>\n",
       "      <th>AutoARIMA-lo-95</th>\n",
       "      <th>AutoARIMA-hi-95</th>\n",
       "    </tr>\n",
       "  </thead>\n",
       "  <tbody>\n",
       "    <tr>\n",
       "      <th>0</th>\n",
       "      <td>Energy</td>\n",
       "      <td>2014-01-01</td>\n",
       "      <td>NaN</td>\n",
       "      <td>NaN</td>\n",
       "      <td>NaN</td>\n",
       "    </tr>\n",
       "    <tr>\n",
       "      <th>1</th>\n",
       "      <td>Energy</td>\n",
       "      <td>2014-01-02</td>\n",
       "      <td>13.051928</td>\n",
       "      <td>5.691445</td>\n",
       "      <td>20.412410</td>\n",
       "    </tr>\n",
       "    <tr>\n",
       "      <th>2</th>\n",
       "      <td>Energy</td>\n",
       "      <td>2014-01-03</td>\n",
       "      <td>12.296550</td>\n",
       "      <td>4.584426</td>\n",
       "      <td>20.008675</td>\n",
       "    </tr>\n",
       "    <tr>\n",
       "      <th>3</th>\n",
       "      <td>Energy</td>\n",
       "      <td>2014-01-04</td>\n",
       "      <td>13.582147</td>\n",
       "      <td>5.566258</td>\n",
       "      <td>21.598036</td>\n",
       "    </tr>\n",
       "    <tr>\n",
       "      <th>4</th>\n",
       "      <td>Energy</td>\n",
       "      <td>2014-01-05</td>\n",
       "      <td>13.970739</td>\n",
       "      <td>5.892063</td>\n",
       "      <td>22.049416</td>\n",
       "    </tr>\n",
       "  </tbody>\n",
       "</table>\n",
       "</div>"
      ],
      "text/plain": [
       "  unique_id         ds  AutoARIMA  AutoARIMA-lo-95  AutoARIMA-hi-95\n",
       "0    Energy 2014-01-01        NaN              NaN              NaN\n",
       "1    Energy 2014-01-02  13.051928         5.691445        20.412410\n",
       "2    Energy 2014-01-03  12.296550         4.584426        20.008675\n",
       "3    Energy 2014-01-04  13.582147         5.566258        21.598036\n",
       "4    Energy 2014-01-05  13.970739         5.892063        22.049416"
      ]
     },
     "execution_count": 16,
     "metadata": {},
     "output_type": "execute_result"
    }
   ],
   "source": [
    "horizon = 31\n",
    "level = [95]\n",
    "\n",
    "forecast_df = sf.forecast(df=df, h=horizon, X_df=X_df, level=level)\n",
    "forecast_df.head()\n"
   ]
  },
  {
   "cell_type": "markdown",
   "metadata": {},
   "source": [
    "### Verify the predictions"
   ]
  },
  {
   "cell_type": "code",
   "execution_count": 17,
   "metadata": {},
   "outputs": [
    {
     "name": "stdout",
     "output_type": "stream",
     "text": [
      "Connected to DuckDB database: ../meters.db\n",
      "Fetched 31 rows.\n",
      "Connection closed.\n"
     ]
    }
   ],
   "source": [
    "sql_query =\"\"\"\n",
    "\n",
    "SELECT day,energy_sum,\n",
    "LCLid\n",
    "FROM  meters m \n",
    "WHERE date_part('year', day) = 2014\n",
    "AND  date_part('month', day) = 1\n",
    "AND LCLid = 'MAC000002'\n",
    "\"\"\"\n",
    "\n",
    "db.connect()\n",
    "records = db.fetch_all(sql_query)\n",
    "db.close_connection()"
   ]
  },
  {
   "cell_type": "code",
   "execution_count": 18,
   "metadata": {},
   "outputs": [],
   "source": [
    "df_LCLid = pd.DataFrame(records)"
   ]
  },
  {
   "cell_type": "code",
   "execution_count": 19,
   "metadata": {},
   "outputs": [
    {
     "data": {
      "text/plain": [
       "0    15.496\n",
       "1    14.195\n",
       "2    11.382\n",
       "3    16.176\n",
       "Name: 1, dtype: float64"
      ]
     },
     "execution_count": 19,
     "metadata": {},
     "output_type": "execute_result"
    }
   ],
   "source": [
    "df_LCLid.iloc[:,1][:4]"
   ]
  },
  {
   "cell_type": "code",
   "execution_count": 20,
   "metadata": {},
   "outputs": [],
   "source": [
    "forecast_df[\"actual\"] = df_LCLid.iloc[:,1]"
   ]
  },
  {
   "cell_type": "code",
   "execution_count": 21,
   "metadata": {},
   "outputs": [
    {
     "name": "stdout",
     "output_type": "stream",
     "text": [
      "The MAE is 3.05\n"
     ]
    }
   ],
   "source": [
    "mae = abs(forecast_df[\"actual\"]-forecast_df[\"AutoARIMA\"]).mean()\n",
    "print('The MAE is '+str(round(mae,2)))\n"
   ]
  },
  {
   "cell_type": "code",
   "execution_count": 22,
   "metadata": {},
   "outputs": [],
   "source": [
    "from statsforecast import StatsForecast\n",
    "from statsforecast.models import MSTL, AutoARIMA, SeasonalNaive\n",
    "from statsforecast.utils import AirPassengers as ap\n"
   ]
  },
  {
   "cell_type": "code",
   "execution_count": 23,
   "metadata": {},
   "outputs": [],
   "source": [
    "mstl = MSTL(\n",
    "    season_length=[1], # seasonalities of the time series \n",
    "    trend_forecaster=AutoARIMA() # model used to forecast trend\n",
    ")\n"
   ]
  },
  {
   "cell_type": "code",
   "execution_count": 24,
   "metadata": {},
   "outputs": [],
   "source": [
    "sf = StatsForecast(\n",
    "    models=[mstl], # model used to fit each time series \n",
    "    freq='D', # frequency of the data\n",
    ")"
   ]
  },
  {
   "cell_type": "code",
   "execution_count": 25,
   "metadata": {},
   "outputs": [],
   "source": [
    "df = df.drop_duplicates()"
   ]
  },
  {
   "cell_type": "code",
   "execution_count": 26,
   "metadata": {},
   "outputs": [
    {
     "data": {
      "text/plain": [
       "365"
      ]
     },
     "execution_count": 26,
     "metadata": {},
     "output_type": "execute_result"
    }
   ],
   "source": [
    "len(df)"
   ]
  },
  {
   "cell_type": "code",
   "execution_count": 27,
   "metadata": {},
   "outputs": [
    {
     "data": {
      "text/html": [
       "<div>\n",
       "<style scoped>\n",
       "    .dataframe tbody tr th:only-of-type {\n",
       "        vertical-align: middle;\n",
       "    }\n",
       "\n",
       "    .dataframe tbody tr th {\n",
       "        vertical-align: top;\n",
       "    }\n",
       "\n",
       "    .dataframe thead th {\n",
       "        text-align: right;\n",
       "    }\n",
       "</style>\n",
       "<table border=\"1\" class=\"dataframe\">\n",
       "  <thead>\n",
       "    <tr style=\"text-align: right;\">\n",
       "      <th></th>\n",
       "      <th>unique_id</th>\n",
       "      <th>ds</th>\n",
       "      <th>y</th>\n",
       "      <th>temperatureMin</th>\n",
       "      <th>temperatureMax</th>\n",
       "      <th>uvIndex</th>\n",
       "      <th>dewPoint</th>\n",
       "      <th>Type_Binary</th>\n",
       "    </tr>\n",
       "  </thead>\n",
       "  <tbody>\n",
       "    <tr>\n",
       "      <th>0</th>\n",
       "      <td>Energy</td>\n",
       "      <td>2013-01-03</td>\n",
       "      <td>10.074</td>\n",
       "      <td>9.65</td>\n",
       "      <td>11.41</td>\n",
       "      <td>1.0</td>\n",
       "      <td>9.12</td>\n",
       "      <td>0</td>\n",
       "    </tr>\n",
       "    <tr>\n",
       "      <th>1</th>\n",
       "      <td>Energy</td>\n",
       "      <td>2013-01-06</td>\n",
       "      <td>10.293</td>\n",
       "      <td>6.91</td>\n",
       "      <td>8.61</td>\n",
       "      <td>1.0</td>\n",
       "      <td>7.00</td>\n",
       "      <td>0</td>\n",
       "    </tr>\n",
       "    <tr>\n",
       "      <th>2</th>\n",
       "      <td>Energy</td>\n",
       "      <td>2013-01-07</td>\n",
       "      <td>9.439</td>\n",
       "      <td>7.10</td>\n",
       "      <td>9.08</td>\n",
       "      <td>1.0</td>\n",
       "      <td>6.78</td>\n",
       "      <td>0</td>\n",
       "    </tr>\n",
       "    <tr>\n",
       "      <th>3</th>\n",
       "      <td>Energy</td>\n",
       "      <td>2013-01-11</td>\n",
       "      <td>10.979</td>\n",
       "      <td>0.89</td>\n",
       "      <td>5.70</td>\n",
       "      <td>1.0</td>\n",
       "      <td>1.68</td>\n",
       "      <td>0</td>\n",
       "    </tr>\n",
       "    <tr>\n",
       "      <th>4</th>\n",
       "      <td>Energy</td>\n",
       "      <td>2013-01-12</td>\n",
       "      <td>10.586</td>\n",
       "      <td>1.75</td>\n",
       "      <td>4.53</td>\n",
       "      <td>1.0</td>\n",
       "      <td>0.79</td>\n",
       "      <td>0</td>\n",
       "    </tr>\n",
       "  </tbody>\n",
       "</table>\n",
       "</div>"
      ],
      "text/plain": [
       "  unique_id          ds       y  temperatureMin  temperatureMax  uvIndex  \\\n",
       "0    Energy  2013-01-03  10.074            9.65           11.41      1.0   \n",
       "1    Energy  2013-01-06  10.293            6.91            8.61      1.0   \n",
       "2    Energy  2013-01-07   9.439            7.10            9.08      1.0   \n",
       "3    Energy  2013-01-11  10.979            0.89            5.70      1.0   \n",
       "4    Energy  2013-01-12  10.586            1.75            4.53      1.0   \n",
       "\n",
       "   dewPoint  Type_Binary  \n",
       "0      9.12            0  \n",
       "1      7.00            0  \n",
       "2      6.78            0  \n",
       "3      1.68            0  \n",
       "4      0.79            0  "
      ]
     },
     "execution_count": 27,
     "metadata": {},
     "output_type": "execute_result"
    }
   ],
   "source": [
    "df.head()"
   ]
  },
  {
   "cell_type": "code",
   "execution_count": 28,
   "metadata": {},
   "outputs": [
    {
     "data": {
      "text/html": [
       "<div>\n",
       "<style scoped>\n",
       "    .dataframe tbody tr th:only-of-type {\n",
       "        vertical-align: middle;\n",
       "    }\n",
       "\n",
       "    .dataframe tbody tr th {\n",
       "        vertical-align: top;\n",
       "    }\n",
       "\n",
       "    .dataframe thead th {\n",
       "        text-align: right;\n",
       "    }\n",
       "</style>\n",
       "<table border=\"1\" class=\"dataframe\">\n",
       "  <thead>\n",
       "    <tr style=\"text-align: right;\">\n",
       "      <th></th>\n",
       "      <th>unique_id</th>\n",
       "      <th>ds</th>\n",
       "      <th>MSTL</th>\n",
       "      <th>MSTL-lo-95</th>\n",
       "      <th>MSTL-hi-95</th>\n",
       "    </tr>\n",
       "  </thead>\n",
       "  <tbody>\n",
       "    <tr>\n",
       "      <th>0</th>\n",
       "      <td>Energy</td>\n",
       "      <td>2014-01-01</td>\n",
       "      <td>NaN</td>\n",
       "      <td>NaN</td>\n",
       "      <td>NaN</td>\n",
       "    </tr>\n",
       "    <tr>\n",
       "      <th>1</th>\n",
       "      <td>Energy</td>\n",
       "      <td>2014-01-02</td>\n",
       "      <td>13.051928</td>\n",
       "      <td>5.691445</td>\n",
       "      <td>20.412410</td>\n",
       "    </tr>\n",
       "    <tr>\n",
       "      <th>2</th>\n",
       "      <td>Energy</td>\n",
       "      <td>2014-01-03</td>\n",
       "      <td>12.296550</td>\n",
       "      <td>4.584426</td>\n",
       "      <td>20.008675</td>\n",
       "    </tr>\n",
       "    <tr>\n",
       "      <th>3</th>\n",
       "      <td>Energy</td>\n",
       "      <td>2014-01-04</td>\n",
       "      <td>13.582147</td>\n",
       "      <td>5.566258</td>\n",
       "      <td>21.598036</td>\n",
       "    </tr>\n",
       "    <tr>\n",
       "      <th>4</th>\n",
       "      <td>Energy</td>\n",
       "      <td>2014-01-05</td>\n",
       "      <td>13.970739</td>\n",
       "      <td>5.892063</td>\n",
       "      <td>22.049416</td>\n",
       "    </tr>\n",
       "  </tbody>\n",
       "</table>\n",
       "</div>"
      ],
      "text/plain": [
       "  unique_id         ds       MSTL  MSTL-lo-95  MSTL-hi-95\n",
       "0    Energy 2014-01-01        NaN         NaN         NaN\n",
       "1    Energy 2014-01-02  13.051928    5.691445   20.412410\n",
       "2    Energy 2014-01-03  12.296550    4.584426   20.008675\n",
       "3    Energy 2014-01-04  13.582147    5.566258   21.598036\n",
       "4    Energy 2014-01-05  13.970739    5.892063   22.049416"
      ]
     },
     "execution_count": 28,
     "metadata": {},
     "output_type": "execute_result"
    }
   ],
   "source": [
    "forecast_df = sf.forecast(df=df, h=horizon, X_df=X_df, level=level)\n",
    "forecast_df.head()"
   ]
  },
  {
   "cell_type": "code",
   "execution_count": 29,
   "metadata": {},
   "outputs": [
    {
     "data": {
      "text/html": [
       "<div>\n",
       "<style scoped>\n",
       "    .dataframe tbody tr th:only-of-type {\n",
       "        vertical-align: middle;\n",
       "    }\n",
       "\n",
       "    .dataframe tbody tr th {\n",
       "        vertical-align: top;\n",
       "    }\n",
       "\n",
       "    .dataframe thead th {\n",
       "        text-align: right;\n",
       "    }\n",
       "</style>\n",
       "<table border=\"1\" class=\"dataframe\">\n",
       "  <thead>\n",
       "    <tr style=\"text-align: right;\">\n",
       "      <th></th>\n",
       "      <th>unique_id</th>\n",
       "      <th>ds</th>\n",
       "      <th>MSTL</th>\n",
       "      <th>MSTL-lo-95</th>\n",
       "      <th>MSTL-hi-95</th>\n",
       "    </tr>\n",
       "  </thead>\n",
       "  <tbody>\n",
       "    <tr>\n",
       "      <th>0</th>\n",
       "      <td>Energy</td>\n",
       "      <td>2014-01-01</td>\n",
       "      <td>NaN</td>\n",
       "      <td>NaN</td>\n",
       "      <td>NaN</td>\n",
       "    </tr>\n",
       "    <tr>\n",
       "      <th>1</th>\n",
       "      <td>Energy</td>\n",
       "      <td>2014-01-02</td>\n",
       "      <td>13.051928</td>\n",
       "      <td>5.691445</td>\n",
       "      <td>20.412410</td>\n",
       "    </tr>\n",
       "    <tr>\n",
       "      <th>2</th>\n",
       "      <td>Energy</td>\n",
       "      <td>2014-01-03</td>\n",
       "      <td>12.296550</td>\n",
       "      <td>4.584426</td>\n",
       "      <td>20.008675</td>\n",
       "    </tr>\n",
       "    <tr>\n",
       "      <th>3</th>\n",
       "      <td>Energy</td>\n",
       "      <td>2014-01-04</td>\n",
       "      <td>13.582147</td>\n",
       "      <td>5.566258</td>\n",
       "      <td>21.598036</td>\n",
       "    </tr>\n",
       "    <tr>\n",
       "      <th>4</th>\n",
       "      <td>Energy</td>\n",
       "      <td>2014-01-05</td>\n",
       "      <td>13.970739</td>\n",
       "      <td>5.892063</td>\n",
       "      <td>22.049416</td>\n",
       "    </tr>\n",
       "  </tbody>\n",
       "</table>\n",
       "</div>"
      ],
      "text/plain": [
       "  unique_id         ds       MSTL  MSTL-lo-95  MSTL-hi-95\n",
       "0    Energy 2014-01-01        NaN         NaN         NaN\n",
       "1    Energy 2014-01-02  13.051928    5.691445   20.412410\n",
       "2    Energy 2014-01-03  12.296550    4.584426   20.008675\n",
       "3    Energy 2014-01-04  13.582147    5.566258   21.598036\n",
       "4    Energy 2014-01-05  13.970739    5.892063   22.049416"
      ]
     },
     "execution_count": 29,
     "metadata": {},
     "output_type": "execute_result"
    }
   ],
   "source": [
    "forecast_df.head()"
   ]
  },
  {
   "cell_type": "code",
   "execution_count": 30,
   "metadata": {},
   "outputs": [],
   "source": [
    "forecast_df[\"actual\"] = df_LCLid.iloc[:,1]"
   ]
  },
  {
   "cell_type": "code",
   "execution_count": 31,
   "metadata": {},
   "outputs": [
    {
     "name": "stdout",
     "output_type": "stream",
     "text": [
      "The MAE is 3.05\n"
     ]
    }
   ],
   "source": [
    "mae = abs(forecast_df[\"actual\"]-forecast_df[\"MSTL\"]).mean()\n",
    "print('The MAE is '+str(round(mae,2)))"
   ]
  }
 ],
 "metadata": {
  "kernelspec": {
   "display_name": ".venv",
   "language": "python",
   "name": "python3"
  },
  "language_info": {
   "codemirror_mode": {
    "name": "ipython",
    "version": 3
   },
   "file_extension": ".py",
   "mimetype": "text/x-python",
   "name": "python",
   "nbconvert_exporter": "python",
   "pygments_lexer": "ipython3",
   "version": "3.11.6"
  }
 },
 "nbformat": 4,
 "nbformat_minor": 2
}
