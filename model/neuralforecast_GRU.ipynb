{
 "cells": [
  {
   "cell_type": "markdown",
   "metadata": {},
   "source": [
    "This prediction is for  LCLId = MAC000002\n",
    "* Using ARIMA\n",
    "* Using MSTL"
   ]
  },
  {
   "cell_type": "code",
   "execution_count": null,
   "metadata": {},
   "outputs": [],
   "source": [
    "from neuralforecast import NeuralForecast\n",
    "from neuralforecast.models import GRU\n",
    "from neuralforecast.losses.pytorch import DistributionLoss\n",
    "import pandas as pd\n",
    "from pprint import pprint"
   ]
  },
  {
   "cell_type": "code",
   "execution_count": null,
   "metadata": {},
   "outputs": [],
   "source": [
    "import sys\n",
    "sys.path.append(\"..\")\n",
    "from db.duckdb.duckdbhelper import DuckDBDatabaseHelper\n",
    "db = DuckDBDatabaseHelper(\"../meters.db\")"
   ]
  },
  {
   "cell_type": "code",
   "execution_count": null,
   "metadata": {},
   "outputs": [],
   "source": [
    "train = pd.read_csv(\"../model_data/train_day.csv\")\n",
    "test = pd.read_csv(\"../model_data/test_day.csv\")"
   ]
  },
  {
   "cell_type": "code",
   "execution_count": null,
   "metadata": {},
   "outputs": [],
   "source": [
    "train.columns"
   ]
  },
  {
   "cell_type": "code",
   "execution_count": null,
   "metadata": {},
   "outputs": [],
   "source": [
    "len(train)"
   ]
  },
  {
   "cell_type": "code",
   "execution_count": null,
   "metadata": {},
   "outputs": [],
   "source": [
    "train.head()"
   ]
  },
  {
   "cell_type": "code",
   "execution_count": null,
   "metadata": {},
   "outputs": [],
   "source": [
    "df = pd.DataFrame()\n",
    "df[\"unique_id\"] =[\"Energy\"] *len(train)\n",
    "df[\"ds\"] = train[\"day\"]\n",
    "df[\"y\"] = train[\"energy_sum\"]\n",
    "#Add exogenous regressors\n",
    "# 'temperatureMin', 'temperatureMax', 'uvIndex',\n",
    "# 'dewPoint', 'Type_Binary'\n",
    "\n",
    "df['temperatureMin'] = train['temperatureMin']\n",
    "df['temperatureMax'] = train['temperatureMax']\n",
    "df['uvIndex'] = train['uvIndex']\n",
    "df['dewPoint'] = train['dewPoint']\n",
    "df['Type_Binary'] = train['Type_Binary']\n"
   ]
  },
  {
   "cell_type": "code",
   "execution_count": null,
   "metadata": {},
   "outputs": [],
   "source": [
    "X_df = pd.DataFrame()\n",
    "X_df[\"unique_id\"] = [\"Energy\"] *len(test)\n",
    "X_df[\"ds\"] = pd.to_datetime(test[\"day\"])\n",
    "X_df['temperatureMin'] = test['temperatureMin']\n",
    "X_df['temperatureMax'] = test['temperatureMax']\n",
    "X_df['uvIndex'] = test['uvIndex']\n",
    "X_df['dewPoint'] = test['dewPoint']\n",
    "X_df['Type_Binary'] = test['Type_Binary']"
   ]
  },
  {
   "cell_type": "code",
   "execution_count": null,
   "metadata": {},
   "outputs": [],
   "source": [
    "X_df[:6]"
   ]
  },
  {
   "cell_type": "code",
   "execution_count": null,
   "metadata": {},
   "outputs": [],
   "source": [
    "len(df)"
   ]
  },
  {
   "cell_type": "code",
   "execution_count": null,
   "metadata": {},
   "outputs": [],
   "source": [
    "df = df.dropna()"
   ]
  },
  {
   "cell_type": "code",
   "execution_count": null,
   "metadata": {},
   "outputs": [],
   "source": [
    "len(df)"
   ]
  },
  {
   "cell_type": "code",
   "execution_count": null,
   "metadata": {},
   "outputs": [],
   "source": [
    "df.head()"
   ]
  },
  {
   "cell_type": "code",
   "execution_count": null,
   "metadata": {},
   "outputs": [],
   "source": [
    "fcst = NeuralForecast(\n",
    "    models=[GRU(h=31,input_size=-1,\n",
    "                loss=DistributionLoss(distribution='Normal', \n",
    "                                      level=[80, 90]),\n",
    "                scaler_type='robust',\n",
    "                encoder_n_layers=2,\n",
    "                encoder_hidden_size=128,\n",
    "                context_size=10,\n",
    "                decoder_hidden_size=128,\n",
    "                decoder_layers=2,\n",
    "                max_steps=200\n",
    "                )\n",
    "    ],\n",
    "    freq='D'\n",
    ")"
   ]
  },
  {
   "cell_type": "code",
   "execution_count": null,
   "metadata": {},
   "outputs": [],
   "source": [
    "df[\"ds\"] = pd.to_datetime(df[\"ds\"])"
   ]
  },
  {
   "cell_type": "code",
   "execution_count": null,
   "metadata": {},
   "outputs": [],
   "source": [
    "fcst.fit(df=df)"
   ]
  },
  {
   "cell_type": "code",
   "execution_count": null,
   "metadata": {},
   "outputs": [],
   "source": [
    "forecast_df = fcst.predict(futr_df=X_df)"
   ]
  },
  {
   "cell_type": "code",
   "execution_count": null,
   "metadata": {},
   "outputs": [],
   "source": [
    "pprint(forecast_df.columns)"
   ]
  },
  {
   "cell_type": "markdown",
   "metadata": {},
   "source": [
    "### Verify the predictions"
   ]
  },
  {
   "cell_type": "code",
   "execution_count": null,
   "metadata": {},
   "outputs": [],
   "source": [
    "sql_query =\"\"\"\n",
    "\n",
    "SELECT day,energy_sum,\n",
    "LCLid\n",
    "FROM  meters m \n",
    "WHERE date_part('year', day) = 2014\n",
    "AND  date_part('month', day) = 1\n",
    "AND LCLid = 'MAC000002'\n",
    "\"\"\"\n",
    "\n",
    "db.connect()\n",
    "records = db.fetch_all(sql_query)\n",
    "db.close_connection()"
   ]
  },
  {
   "cell_type": "code",
   "execution_count": null,
   "metadata": {},
   "outputs": [],
   "source": [
    "df_LCLid = pd.DataFrame(records)"
   ]
  },
  {
   "cell_type": "code",
   "execution_count": null,
   "metadata": {},
   "outputs": [],
   "source": [
    "df_LCLid.iloc[:,1][:4]"
   ]
  },
  {
   "cell_type": "code",
   "execution_count": null,
   "metadata": {},
   "outputs": [],
   "source": [
    "len(forecast_df[\"GRU\"]),len(df_LCLid.iloc[:,1])"
   ]
  },
  {
   "cell_type": "code",
   "execution_count": null,
   "metadata": {},
   "outputs": [],
   "source": [
    "mae = abs(df_LCLid.iloc[:,1].values-forecast_df[\"GRU\"].values).mean()\n",
    "print('The MAE is '+str(round(mae,3)))"
   ]
  }
 ],
 "metadata": {
  "kernelspec": {
   "display_name": ".venv",
   "language": "python",
   "name": "python3"
  },
  "language_info": {
   "codemirror_mode": {
    "name": "ipython",
    "version": 3
   },
   "file_extension": ".py",
   "mimetype": "text/x-python",
   "name": "python",
   "nbconvert_exporter": "python",
   "pygments_lexer": "ipython3",
   "version": "3.11.6"
  }
 },
 "nbformat": 4,
 "nbformat_minor": 2
}
