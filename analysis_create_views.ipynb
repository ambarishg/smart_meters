{
 "cells": [
  {
   "cell_type": "code",
   "execution_count": 1,
   "metadata": {},
   "outputs": [],
   "source": [
    "from db.duckdb.duckdbhelper import DuckDBDatabaseHelper\n",
    "from pprint import pprint"
   ]
  },
  {
   "cell_type": "code",
   "execution_count": 2,
   "metadata": {},
   "outputs": [],
   "source": [
    "FILE_PATH = 'data/daily_dataset/daily_dataset/*.csv'\n",
    "\n",
    "INFO_HOUSEHOLD_FILE = \"data\\informations_households.csv\"\n",
    "\n",
    "WEATHER_DAILY_DARKSKY_FILE = \"data\\weather_daily_darksky.csv\"\n",
    "\n",
    "BANK_HOLIDAYS_FILE = \"data\\\\uk_bank_holidays.csv\""
   ]
  },
  {
   "cell_type": "code",
   "execution_count": 3,
   "metadata": {},
   "outputs": [],
   "source": [
    "sql_query =f\"\"\"\n",
    "\n",
    "CREATE VIEW IF NOT EXISTS meters AS \n",
    "SELECT * FROM read_csv('{FILE_PATH}');\n",
    "\n",
    "\"\"\""
   ]
  },
  {
   "cell_type": "code",
   "execution_count": 4,
   "metadata": {},
   "outputs": [
    {
     "name": "stdout",
     "output_type": "stream",
     "text": [
      "Connected to DuckDB database: meters.db\n",
      "Query executed successfully.\n",
      "Connection closed.\n"
     ]
    }
   ],
   "source": [
    "db = DuckDBDatabaseHelper(\"meters.db\")\n",
    "db.connect()\n",
    "db.execute_query(sql_query)\n",
    "db.close_connection()"
   ]
  },
  {
   "cell_type": "code",
   "execution_count": 5,
   "metadata": {},
   "outputs": [],
   "source": [
    "\n",
    "sql_query =f\"\"\"\n",
    "\n",
    "CREATE VIEW IF NOT EXISTS info_household AS \n",
    "SELECT * FROM read_csv('{INFO_HOUSEHOLD_FILE}');\n",
    "\n",
    "\"\"\""
   ]
  },
  {
   "cell_type": "code",
   "execution_count": 6,
   "metadata": {},
   "outputs": [
    {
     "name": "stdout",
     "output_type": "stream",
     "text": [
      "Connected to DuckDB database: meters.db\n",
      "Query executed successfully.\n",
      "Connection closed.\n"
     ]
    }
   ],
   "source": [
    "db = DuckDBDatabaseHelper(\"meters.db\")\n",
    "db.connect()\n",
    "db.execute_query(sql_query)\n",
    "db.close_connection()"
   ]
  },
  {
   "cell_type": "code",
   "execution_count": 7,
   "metadata": {},
   "outputs": [],
   "source": [
    "\n",
    "sql_query =f\"\"\"\n",
    "\n",
    "CREATE VIEW IF NOT EXISTS weather_daily_darksky AS \n",
    "SELECT * FROM read_csv('{WEATHER_DAILY_DARKSKY_FILE}');\n",
    "\n",
    "\"\"\""
   ]
  },
  {
   "cell_type": "code",
   "execution_count": 8,
   "metadata": {},
   "outputs": [
    {
     "name": "stdout",
     "output_type": "stream",
     "text": [
      "Connected to DuckDB database: meters.db\n",
      "Query executed successfully.\n",
      "Connection closed.\n"
     ]
    }
   ],
   "source": [
    "db = DuckDBDatabaseHelper(\"meters.db\")\n",
    "db.connect()\n",
    "db.execute_query(sql_query)\n",
    "db.close_connection()"
   ]
  },
  {
   "cell_type": "code",
   "execution_count": 9,
   "metadata": {},
   "outputs": [
    {
     "name": "stdout",
     "output_type": "stream",
     "text": [
      "Connected to DuckDB database: meters.db\n",
      "Query executed successfully.\n",
      "Connection closed.\n"
     ]
    }
   ],
   "source": [
    "sql_query =\"\"\"\n",
    "CREATE VIEW IF NOT EXISTS weather_daily_darksky_modified AS\n",
    "SELECT weather_daily_darksky.*, \n",
    "date_part('year', temperatureMaxTime) || '-' || \n",
    "date_part('month', temperatureMaxTime) || '-' || \n",
    "date_part('day', temperatureMaxTime) \n",
    "AS formatted_temperatureMaxTime_weather_daily_darksky \n",
    "FROM weather_daily_darksky  \n",
    "\"\"\"\n",
    "\n",
    "db.connect()\n",
    "records = db.execute_query(sql_query)\n",
    "db.close_connection()"
   ]
  },
  {
   "cell_type": "code",
   "execution_count": null,
   "metadata": {},
   "outputs": [],
   "source": []
  },
  {
   "cell_type": "code",
   "execution_count": 10,
   "metadata": {},
   "outputs": [
    {
     "name": "stdout",
     "output_type": "stream",
     "text": [
      "Connected to DuckDB database: meters.db\n",
      "Query executed successfully.\n",
      "Connection closed.\n"
     ]
    }
   ],
   "source": [
    "sql_query =f\"\"\"\n",
    "CREATE VIEW IF NOT EXISTS uk_bank_holidays \n",
    "AS \n",
    "SELECT * FROM read_csv('{BANK_HOLIDAYS_FILE}');\n",
    "\"\"\"\n",
    "\n",
    "db.connect()\n",
    "records = db.execute_query(sql_query)\n",
    "db.close_connection()"
   ]
  }
 ],
 "metadata": {
  "kernelspec": {
   "display_name": ".venv",
   "language": "python",
   "name": "python3"
  },
  "language_info": {
   "codemirror_mode": {
    "name": "ipython",
    "version": 3
   },
   "file_extension": ".py",
   "mimetype": "text/x-python",
   "name": "python",
   "nbconvert_exporter": "python",
   "pygments_lexer": "ipython3",
   "version": "3.11.6"
  }
 },
 "nbformat": 4,
 "nbformat_minor": 2
}
